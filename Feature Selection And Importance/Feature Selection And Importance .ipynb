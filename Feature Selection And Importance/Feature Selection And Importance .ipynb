{
 "cells": [
  {
   "cell_type": "code",
   "execution_count": 2,
   "metadata": {},
   "outputs": [],
   "source": [
    "import pandas as pd\n",
    "import numpy as np\n",
    "from sklearn.feature_selection import chi2,SelectKBest\n"
   ]
  },
  {
   "cell_type": "code",
   "execution_count": 3,
   "metadata": {},
   "outputs": [],
   "source": [
    "data=pd.read_csv(\"train.csv\")"
   ]
  },
  {
   "cell_type": "code",
   "execution_count": 5,
   "metadata": {},
   "outputs": [
    {
     "name": "stdout",
     "output_type": "stream",
     "text": [
      "   battery_power  blue  clock_speed  dual_sim  fc  four_g  int_memory  m_dep  \\\n",
      "0            842     0          2.2         0   1       0           7    0.6   \n",
      "1           1021     1          0.5         1   0       1          53    0.7   \n",
      "2            563     1          0.5         1   2       1          41    0.9   \n",
      "3            615     1          2.5         0   0       0          10    0.8   \n",
      "4           1821     1          1.2         0  13       1          44    0.6   \n",
      "\n",
      "   mobile_wt  n_cores  ...  px_height  px_width   ram  sc_h  sc_w  talk_time  \\\n",
      "0        188        2  ...         20       756  2549     9     7         19   \n",
      "1        136        3  ...        905      1988  2631    17     3          7   \n",
      "2        145        5  ...       1263      1716  2603    11     2          9   \n",
      "3        131        6  ...       1216      1786  2769    16     8         11   \n",
      "4        141        2  ...       1208      1212  1411     8     2         15   \n",
      "\n",
      "   three_g  touch_screen  wifi  price_range  \n",
      "0        0             0     1            1  \n",
      "1        1             1     0            2  \n",
      "2        1             1     0            2  \n",
      "3        1             0     0            2  \n",
      "4        1             1     0            1  \n",
      "\n",
      "[5 rows x 21 columns]\n"
     ]
    }
   ],
   "source": [
    "print(data.head())"
   ]
  },
  {
   "cell_type": "code",
   "execution_count": 8,
   "metadata": {},
   "outputs": [
    {
     "name": "stdout",
     "output_type": "stream",
     "text": [
      "<class 'pandas.core.frame.DataFrame'>\n",
      "RangeIndex: 2000 entries, 0 to 1999\n",
      "Data columns (total 21 columns):\n",
      "battery_power    2000 non-null int64\n",
      "blue             2000 non-null int64\n",
      "clock_speed      2000 non-null float64\n",
      "dual_sim         2000 non-null int64\n",
      "fc               2000 non-null int64\n",
      "four_g           2000 non-null int64\n",
      "int_memory       2000 non-null int64\n",
      "m_dep            2000 non-null float64\n",
      "mobile_wt        2000 non-null int64\n",
      "n_cores          2000 non-null int64\n",
      "pc               2000 non-null int64\n",
      "px_height        2000 non-null int64\n",
      "px_width         2000 non-null int64\n",
      "ram              2000 non-null int64\n",
      "sc_h             2000 non-null int64\n",
      "sc_w             2000 non-null int64\n",
      "talk_time        2000 non-null int64\n",
      "three_g          2000 non-null int64\n",
      "touch_screen     2000 non-null int64\n",
      "wifi             2000 non-null int64\n",
      "price_range      2000 non-null int64\n",
      "dtypes: float64(2), int64(19)\n",
      "memory usage: 328.2 KB\n",
      "None\n"
     ]
    }
   ],
   "source": [
    "print(data.info())"
   ]
  },
  {
   "cell_type": "code",
   "execution_count": null,
   "metadata": {},
   "outputs": [],
   "source": []
  },
  {
   "cell_type": "code",
   "execution_count": 10,
   "metadata": {},
   "outputs": [],
   "source": [
    "X=data.iloc[:,:20]\n",
    "y=data.iloc[:,-1]"
   ]
  },
  {
   "cell_type": "code",
   "execution_count": 18,
   "metadata": {},
   "outputs": [],
   "source": [
    "best_features=SelectKBest(score_func=chi2,k=10)\n",
    "fit=best_features.fit(X,y)"
   ]
  },
  {
   "cell_type": "code",
   "execution_count": 19,
   "metadata": {},
   "outputs": [
    {
     "name": "stdout",
     "output_type": "stream",
     "text": [
      "[1.41298666e+04 7.23232323e-01 6.48365906e-01 6.31010795e-01\n",
      " 1.01351665e+01 1.52157239e+00 8.98391244e+01 7.45819631e-01\n",
      " 9.59728626e+01 9.09755558e+00 9.18605355e+00 1.73635695e+04\n",
      " 9.81058675e+03 9.31267519e+05 9.61487832e+00 1.64803191e+01\n",
      " 1.32364000e+01 3.27642810e-01 1.92842942e+00 4.22090730e-01]\n"
     ]
    }
   ],
   "source": [
    "print(fit.scores_)"
   ]
  },
  {
   "cell_type": "code",
   "execution_count": 20,
   "metadata": {},
   "outputs": [],
   "source": [
    "dfscores=pd.DataFrame(fit.scores_)\n",
    "dfcolumns=pd.DataFrame(X.columns)"
   ]
  },
  {
   "cell_type": "code",
   "execution_count": 22,
   "metadata": {},
   "outputs": [
    {
     "name": "stdout",
     "output_type": "stream",
     "text": [
      "                0              0\n",
      "0    14129.866576  battery_power\n",
      "1        0.723232           blue\n",
      "2        0.648366    clock_speed\n",
      "3        0.631011       dual_sim\n",
      "4       10.135166             fc\n",
      "5        1.521572         four_g\n",
      "6       89.839124     int_memory\n",
      "7        0.745820          m_dep\n",
      "8       95.972863      mobile_wt\n",
      "9        9.097556        n_cores\n",
      "10       9.186054             pc\n",
      "11   17363.569536      px_height\n",
      "12    9810.586750       px_width\n",
      "13  931267.519053            ram\n",
      "14       9.614878           sc_h\n",
      "15      16.480319           sc_w\n",
      "16      13.236400      talk_time\n",
      "17       0.327643        three_g\n",
      "18       1.928429   touch_screen\n",
      "19       0.422091           wifi\n"
     ]
    }
   ],
   "source": [
    "feature_scores=pd.concat([dfscores,dfcolumns],axis=1)\n",
    "print(feature_scores)"
   ]
  },
  {
   "cell_type": "code",
   "execution_count": 23,
   "metadata": {},
   "outputs": [],
   "source": [
    "feature_scores.columns=[\"score\",\"features\"]"
   ]
  },
  {
   "cell_type": "code",
   "execution_count": 24,
   "metadata": {},
   "outputs": [
    {
     "name": "stdout",
     "output_type": "stream",
     "text": [
      "            score       features\n",
      "0    14129.866576  battery_power\n",
      "1        0.723232           blue\n",
      "2        0.648366    clock_speed\n",
      "3        0.631011       dual_sim\n",
      "4       10.135166             fc\n",
      "5        1.521572         four_g\n",
      "6       89.839124     int_memory\n",
      "7        0.745820          m_dep\n",
      "8       95.972863      mobile_wt\n",
      "9        9.097556        n_cores\n",
      "10       9.186054             pc\n",
      "11   17363.569536      px_height\n",
      "12    9810.586750       px_width\n",
      "13  931267.519053            ram\n",
      "14       9.614878           sc_h\n",
      "15      16.480319           sc_w\n",
      "16      13.236400      talk_time\n",
      "17       0.327643        three_g\n",
      "18       1.928429   touch_screen\n",
      "19       0.422091           wifi\n"
     ]
    }
   ],
   "source": [
    "print(feature_scores)"
   ]
  },
  {
   "cell_type": "code",
   "execution_count": 34,
   "metadata": {},
   "outputs": [
    {
     "name": "stdout",
     "output_type": "stream",
     "text": [
      "            score       features\n",
      "13  931267.519053            ram\n",
      "11   17363.569536      px_height\n",
      "0    14129.866576  battery_power\n",
      "12    9810.586750       px_width\n",
      "8       95.972863      mobile_wt\n",
      "6       89.839124     int_memory\n",
      "15      16.480319           sc_w\n",
      "16      13.236400      talk_time\n",
      "4       10.135166             fc\n",
      "14       9.614878           sc_h\n",
      "10       9.186054             pc\n",
      "9        9.097556        n_cores\n",
      "18       1.928429   touch_screen\n",
      "5        1.521572         four_g\n",
      "7        0.745820          m_dep\n",
      "1        0.723232           blue\n",
      "2        0.648366    clock_speed\n",
      "3        0.631011       dual_sim\n",
      "19       0.422091           wifi\n",
      "17       0.327643        three_g\n"
     ]
    }
   ],
   "source": [
    "feature_scores=feature_scores.sort_values(by=\"score\",ascending=False)\n",
    "print(feature_scores)"
   ]
  },
  {
   "cell_type": "code",
   "execution_count": 27,
   "metadata": {},
   "outputs": [],
   "source": [
    "import seaborn as sns"
   ]
  },
  {
   "cell_type": "code",
   "execution_count": 28,
   "metadata": {},
   "outputs": [],
   "source": [
    "import matplotlib.pyplot as plt"
   ]
  },
  {
   "cell_type": "code",
   "execution_count": 43,
   "metadata": {},
   "outputs": [
    {
     "data": {
      "text/plain": [
       "<BarContainer object of 10 artists>"
      ]
     },
     "execution_count": 43,
     "metadata": {},
     "output_type": "execute_result"
    },
    {
     "data": {
      "image/png": "[encoded data removed]",
      "text/plain": [
       "<Figure size 1080x720 with 1 Axes>"
      ]
     },
     "metadata": {},
     "output_type": "display_data"
    }
   ],
   "source": [
    "plt.figure(figsize=(15,10))\n",
    "plt.style.use(\"seaborn\")\n",
    "plt.bar(feature_scores[\"features\"][:10],feature_scores[\"score\"][:10])"
   ]
  },
  {
   "cell_type": "code",
   "execution_count": null,
   "metadata": {},
   "outputs": [],
   "source": []
  },
  {
   "cell_type": "code",
   "execution_count": null,
   "metadata": {},
   "outputs": [],
   "source": []
  }
 ],
 "metadata": {
  "kernelspec": {
   "display_name": "Python 3",
   "language": "python",
   "name": "python3"
  },
  "language_info": {
   "codemirror_mode": {
    "name": "ipython",
    "version": 3
   },
   "file_extension": ".py",
   "mimetype": "text/x-python",
   "name": "python",
   "nbconvert_exporter": "python",
   "pygments_lexer": "ipython3",
   "version": "3.7.3"
  }
 },
 "nbformat": 4,
 "nbformat_minor": 2
}
