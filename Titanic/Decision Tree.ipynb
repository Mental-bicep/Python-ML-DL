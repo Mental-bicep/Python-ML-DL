{
 "cells": [
  {
   "cell_type": "code",
   "execution_count": 1,
   "metadata": {},
   "outputs": [],
   "source": [
    "import numpy as np\n",
    "import pandas as pd\n",
    "import matplotlib.pyplot as plt "
   ]
  },
  {
   "cell_type": "code",
   "execution_count": 2,
   "metadata": {},
   "outputs": [],
   "source": [
    "data=pd.read_csv(\"train.csv\")"
   ]
  },
  {
   "cell_type": "code",
   "execution_count": 3,
   "metadata": {},
   "outputs": [
    {
     "name": "stdout",
     "output_type": "stream",
     "text": [
      "   PassengerId  Survived  Pclass  \\\n",
      "0            1         0       3   \n",
      "1            2         1       1   \n",
      "2            3         1       3   \n",
      "3            4         1       1   \n",
      "4            5         0       3   \n",
      "\n",
      "                                                Name     Sex   Age  SibSp  \\\n",
      "0                            Braund, Mr. Owen Harris    male  22.0      1   \n",
      "1  Cumings, Mrs. John Bradley (Florence Briggs Th...  female  38.0      1   \n",
      "2                             Heikkinen, Miss. Laina  female  26.0      0   \n",
      "3       Futrelle, Mrs. Jacques Heath (Lily May Peel)  female  35.0      1   \n",
      "4                           Allen, Mr. William Henry    male  35.0      0   \n",
      "\n",
      "   Parch            Ticket     Fare Cabin Embarked  \n",
      "0      0         A/5 21171   7.2500   NaN        S  \n",
      "1      0          PC 17599  71.2833   C85        C  \n",
      "2      0  STON/O2. 3101282   7.9250   NaN        S  \n",
      "3      0            113803  53.1000  C123        S  \n",
      "4      0            373450   8.0500   NaN        S  \n"
     ]
    }
   ],
   "source": [
    "print(data.head())"
   ]
  },
  {
   "cell_type": "code",
   "execution_count": 4,
   "metadata": {},
   "outputs": [
    {
     "name": "stdout",
     "output_type": "stream",
     "text": [
      "<class 'pandas.core.frame.DataFrame'>\n",
      "RangeIndex: 891 entries, 0 to 890\n",
      "Data columns (total 12 columns):\n",
      "PassengerId    891 non-null int64\n",
      "Survived       891 non-null int64\n",
      "Pclass         891 non-null int64\n",
      "Name           891 non-null object\n",
      "Sex            891 non-null object\n",
      "Age            714 non-null float64\n",
      "SibSp          891 non-null int64\n",
      "Parch          891 non-null int64\n",
      "Ticket         891 non-null object\n",
      "Fare           891 non-null float64\n",
      "Cabin          204 non-null object\n",
      "Embarked       889 non-null object\n",
      "dtypes: float64(2), int64(5), object(5)\n",
      "memory usage: 83.6+ KB\n",
      "None\n"
     ]
    }
   ],
   "source": [
    "print(data.info())"
   ]
  },
  {
   "cell_type": "code",
   "execution_count": 5,
   "metadata": {},
   "outputs": [
    {
     "name": "stdout",
     "output_type": "stream",
     "text": [
      "Index(['PassengerId', 'Survived', 'Pclass', 'Name', 'Sex', 'Age', 'SibSp',\n",
      "       'Parch', 'Ticket', 'Fare', 'Cabin', 'Embarked'],\n",
      "      dtype='object')\n"
     ]
    }
   ],
   "source": [
    "print(data.columns)"
   ]
  },
  {
   "cell_type": "code",
   "execution_count": 6,
   "metadata": {},
   "outputs": [],
   "source": [
    "drop_cols=[\"PassengerId\",\"Name\",\"Ticket\",\"Cabin\",\"Embarked\"]\n",
    "data_clean=data.drop(drop_cols,axis=1)"
   ]
  },
  {
   "cell_type": "code",
   "execution_count": 7,
   "metadata": {},
   "outputs": [
    {
     "name": "stdout",
     "output_type": "stream",
     "text": [
      "   Survived  Pclass     Sex   Age  SibSp  Parch     Fare\n",
      "0         0       3    male  22.0      1      0   7.2500\n",
      "1         1       1  female  38.0      1      0  71.2833\n",
      "2         1       3  female  26.0      0      0   7.9250\n",
      "3         1       1  female  35.0      1      0  53.1000\n",
      "4         0       3    male  35.0      0      0   8.0500\n"
     ]
    }
   ],
   "source": [
    "print(data_clean.head())"
   ]
  },
  {
   "cell_type": "code",
   "execution_count": 8,
   "metadata": {},
   "outputs": [],
   "source": [
    "from sklearn.preprocessing import LabelEncoder"
   ]
  },
  {
   "cell_type": "code",
   "execution_count": 9,
   "metadata": {},
   "outputs": [],
   "source": [
    "le=LabelEncoder()\n",
    "data_clean[\"Sex\"]=le.fit_transform(data_clean[\"Sex\"])"
   ]
  },
  {
   "cell_type": "code",
   "execution_count": 10,
   "metadata": {},
   "outputs": [
    {
     "name": "stdout",
     "output_type": "stream",
     "text": [
      "   Survived  Pclass  Sex   Age  SibSp  Parch     Fare\n",
      "0         0       3    1  22.0      1      0   7.2500\n",
      "1         1       1    0  38.0      1      0  71.2833\n",
      "2         1       3    0  26.0      0      0   7.9250\n",
      "3         1       1    0  35.0      1      0  53.1000\n",
      "4         0       3    1  35.0      0      0   8.0500\n"
     ]
    }
   ],
   "source": [
    "print(data_clean.head())"
   ]
  },
  {
   "cell_type": "code",
   "execution_count": 11,
   "metadata": {},
   "outputs": [
    {
     "name": "stdout",
     "output_type": "stream",
     "text": [
      "<class 'pandas.core.frame.DataFrame'>\n",
      "RangeIndex: 891 entries, 0 to 890\n",
      "Data columns (total 7 columns):\n",
      "Survived    891 non-null int64\n",
      "Pclass      891 non-null int64\n",
      "Sex         891 non-null int32\n",
      "Age         714 non-null float64\n",
      "SibSp       891 non-null int64\n",
      "Parch       891 non-null int64\n",
      "Fare        891 non-null float64\n",
      "dtypes: float64(2), int32(1), int64(4)\n",
      "memory usage: 45.3 KB\n",
      "None\n"
     ]
    }
   ],
   "source": [
    "print(data_clean.info())"
   ]
  },
  {
   "cell_type": "code",
   "execution_count": 12,
   "metadata": {},
   "outputs": [],
   "source": [
    "data_clean=data_clean.fillna(data_clean[\"Age\"].mean())"
   ]
  },
  {
   "cell_type": "code",
   "execution_count": 13,
   "metadata": {},
   "outputs": [
    {
     "name": "stdout",
     "output_type": "stream",
     "text": [
      "   Survived  Pclass  Sex   Age  SibSp  Parch     Fare\n",
      "0         0       3    1  22.0      1      0   7.2500\n",
      "1         1       1    0  38.0      1      0  71.2833\n",
      "2         1       3    0  26.0      0      0   7.9250\n",
      "3         1       1    0  35.0      1      0  53.1000\n",
      "4         0       3    1  35.0      0      0   8.0500\n",
      "<class 'pandas.core.frame.DataFrame'>\n",
      "RangeIndex: 891 entries, 0 to 890\n",
      "Data columns (total 7 columns):\n",
      "Survived    891 non-null int64\n",
      "Pclass      891 non-null int64\n",
      "Sex         891 non-null int32\n",
      "Age         891 non-null float64\n",
      "SibSp       891 non-null int64\n",
      "Parch       891 non-null int64\n",
      "Fare        891 non-null float64\n",
      "dtypes: float64(2), int32(1), int64(4)\n",
      "memory usage: 45.3 KB\n",
      "None\n"
     ]
    }
   ],
   "source": [
    "print(data_clean.head())\n",
    "print(data_clean.info())"
   ]
  },
  {
   "cell_type": "code",
   "execution_count": 14,
   "metadata": {},
   "outputs": [],
   "source": [
    "input_cols=[\"Pclass\",\"Sex\",\"Age\",\"SibSp\",\"Parch\",\"Fare\"]\n",
    "output_cols=[\"Survived\"]"
   ]
  },
  {
   "cell_type": "code",
   "execution_count": 15,
   "metadata": {},
   "outputs": [],
   "source": [
    "x=data_clean[input_cols]\n",
    "y=data_clean[output_cols]"
   ]
  },
  {
   "cell_type": "code",
   "execution_count": 16,
   "metadata": {},
   "outputs": [
    {
     "name": "stdout",
     "output_type": "stream",
     "text": [
      "   Pclass  Sex   Age  SibSp  Parch     Fare\n",
      "0       3    1  22.0      1      0   7.2500\n",
      "1       1    0  38.0      1      0  71.2833\n",
      "2       3    0  26.0      0      0   7.9250\n",
      "3       1    0  35.0      1      0  53.1000\n",
      "4       3    1  35.0      0      0   8.0500\n",
      "(891, 6) (891, 1)\n",
      "<class 'pandas.core.frame.DataFrame'>\n"
     ]
    }
   ],
   "source": [
    "print(x.head())\n",
    "print(x.shape,y.shape)\n",
    "print(type(x))"
   ]
  },
  {
   "cell_type": "code",
   "execution_count": 17,
   "metadata": {},
   "outputs": [],
   "source": [
    "def entropy(col):\n",
    "    counts=np.unique(col,return_counts=True)\n",
    "    n=float(col.shape[0])\n",
    "    ent=0.0\n",
    "    for ele in counts[1]:\n",
    "        p=ele/n\n",
    "        ent+=(-1*p*np.log2(p))\n",
    "    return ent"
   ]
  },
  {
   "cell_type": "code",
   "execution_count": 18,
   "metadata": {},
   "outputs": [
    {
     "name": "stdout",
     "output_type": "stream",
     "text": [
      "0.863120568566631\n"
     ]
    }
   ],
   "source": [
    "col=np.array([1,1,1,1,0,1,0])\n",
    "print(entropy(col))"
   ]
  },
  {
   "cell_type": "code",
   "execution_count": 19,
   "metadata": {},
   "outputs": [],
   "source": [
    "def divide_data(xdata,col,value):\n",
    "    x_left=pd.DataFrame([],columns=xdata.columns)\n",
    "    x_right=pd.DataFrame([],columns=xdata.columns)\n",
    "    \n",
    "    for ele in range(xdata.shape[0]):\n",
    "        val=xdata[col].loc[ele]\n",
    "        if val>value:x_right=x_right.append(xdata.loc[ele])\n",
    "        else:x_left=x_left.append(xdata.loc[ele])\n",
    "    return x_left,x_right"
   ]
  },
  {
   "cell_type": "code",
   "execution_count": 20,
   "metadata": {},
   "outputs": [],
   "source": [
    "def inf_gain(xdata,col,freq):\n",
    "    left,right=divide_data(xdata,col,freq)\n",
    "    l=left.shape[0]/xdata.shape[0]\n",
    "    r=right.shape[0]/xdata.shape[0]\n",
    "    \n",
    "    if left.shape[0]==0 or right.shape[0]==0:return -1000\n",
    "    i_gain=entropy(xdata.Survived)-(l*entropy(left.Survived))-(r*entropy(right.Survived))\n",
    "    return i_gain"
   ]
  },
  {
   "cell_type": "code",
   "execution_count": 21,
   "metadata": {},
   "outputs": [
    {
     "name": "stdout",
     "output_type": "stream",
     "text": [
      "Pclass\n",
      "0.07579362743608165\n",
      "Sex\n",
      "0.2176601066606143\n",
      "Age\n",
      "0.001158644038169343\n",
      "SibSp\n",
      "0.009584541813400127\n",
      "Parch\n",
      "0.015380754493137666\n",
      "Fare\n",
      "0.04214069283899541\n"
     ]
    }
   ],
   "source": [
    "for fx in x.columns:\n",
    "    print(fx)\n",
    "    print(inf_gain(data_clean,fx,data_clean[fx].mean()))"
   ]
  },
  {
   "cell_type": "code",
   "execution_count": 36,
   "metadata": {},
   "outputs": [],
   "source": [
    "class DecisionTree:\n",
    "    def __init__(self,depth=0,maxDepth=5):\n",
    "        self.left=None\n",
    "        self.right=None\n",
    "        self.fkey=None\n",
    "        self.fval=None\n",
    "        self.maxDepth=maxDepth\n",
    "        self.depth=depth\n",
    "        self.target=None\n",
    "    def train(self,Xtrain):\n",
    "        features=input_cols\n",
    "        infoGains=[]\n",
    "        for ix in features:\n",
    "            i_gain=inf_gain(Xtrain,ix,Xtrain[ix].mean())\n",
    "            infoGains.append(i_gain)\n",
    "        \n",
    "        self.fkey=features[np.argmax(infoGains)]\n",
    "        self.fval=Xtrain[self.fkey].mean()\n",
    "        \n",
    "        dataLeft,dataRight=divide_data(Xtrain,self.fkey,self.fval)\n",
    "        dataLeft=dataLeft.reset_index(drop=True)\n",
    "        dataRight=dataRight.reset_index(drop=True)\n",
    "        \n",
    "        #ACTUALLY A LEAF NODE\n",
    "        if dataLeft.shape[0]==0 or dataRight.shape[0]==0:\n",
    "            if Xtrain.Survived.mean()>=0.5:\n",
    "                self.target=\"survived\"\n",
    "            else: self.target=\"dead\"\n",
    "            return \n",
    "        \n",
    "        #STOP WHEN DEPTH IS GT. THAN MAX DEPTH ie. STOPPING EARLY\n",
    "        if self.depth >= self.maxDepth:\n",
    "            if Xtrain.Survived.mean()>=0.5:\n",
    "                self.target=\"survived\"\n",
    "            else: self.target=\"dead\"\n",
    "            return \n",
    "        \n",
    "        self.left=DecisionTree(depth=self.depth+1,maxDepth=self.maxDepth)\n",
    "        self.left.train(dataLeft)\n",
    "        \n",
    "        self.right=DecisionTree(depth=self.depth+1,maxDepth=self.maxDepth)\n",
    "        self.right.train(dataRight)\n",
    "        \n",
    "        if Xtrain.Survived.mean()>=0.5:\n",
    "            self.target=\"survived\"\n",
    "        else:self.target=\"dead\"\n",
    "        \n",
    "        return\n",
    "    \n",
    "    def Predict(self,test):\n",
    "        if(test[self.fkey]>self.fval):\n",
    "            if self.right is None:\n",
    "                return self.right\n",
    "            return self.right.Predict(test)\n",
    "        else:\n",
    "            if self.left is None:\n",
    "                return self.target\n",
    "            return self.left.Predict(test)\n",
    "        \n",
    "        \n",
    "                \n",
    "                "
   ]
  },
  {
   "cell_type": "code",
   "execution_count": 34,
   "metadata": {},
   "outputs": [
    {
     "name": "stdout",
     "output_type": "stream",
     "text": [
      "(623, 7) (268, 7)\n"
     ]
    }
   ],
   "source": [
    "split=int(0.7*data_clean.shape[0])\n",
    "train_data=data_clean[:split]\n",
    "test_data=data_clean[split:]\n",
    "test_data=test_data.reset_index(drop=True)\n",
    "print(train_data.shape,test_data.shape)"
   ]
  },
  {
   "cell_type": "code",
   "execution_count": 37,
   "metadata": {},
   "outputs": [],
   "source": [
    "dt=DecisionTree()\n",
    "dt.train(train_data)"
   ]
  },
  {
   "cell_type": "code",
   "execution_count": 39,
   "metadata": {},
   "outputs": [
    {
     "name": "stdout",
     "output_type": "stream",
     "text": [
      "Sex\n",
      "0.6292134831460674\n"
     ]
    }
   ],
   "source": [
    "print(dt.fkey)\n",
    "print(dt.fval)"
   ]
  },
  {
   "cell_type": "code",
   "execution_count": 40,
   "metadata": {},
   "outputs": [],
   "source": [
    "y_pred=[]\n",
    "for ix in range(test_data.shape[0]):\n",
    "    y_pred.append(dt.Predict(test_data.loc[ix]))"
   ]
  },
  {
   "cell_type": "code",
   "execution_count": 41,
   "metadata": {},
   "outputs": [
    {
     "name": "stdout",
     "output_type": "stream",
     "text": [
      "['dead', 'dead', 'dead', 'dead', 'survived', None, None, 'dead', 'dead', 'dead', 'dead', 'dead', None, None, 'dead', None, 'dead', 'dead', 'survived', 'dead', 'dead', 'survived', 'dead', 'dead', 'dead', None, 'survived', None, 'survived', 'dead', None, 'survived', None, None, 'survived', 'dead', 'dead', 'dead', None, 'dead', None, 'dead', 'dead', 'dead', None, None, 'survived', None, 'survived', 'dead', 'dead', 'dead', 'dead', None, 'dead', None, None, None, None, 'dead', 'dead', None, None, None, 'dead', 'dead', 'survived', 'survived', 'survived', 'dead', None, 'dead', 'dead', None, None, None, None, 'survived', 'dead', 'survived', None, None, 'dead', 'survived', 'dead', 'survived', 'dead', 'survived', 'dead', 'dead', 'dead', 'dead', 'dead', 'survived', None, 'dead', None, 'survived', 'dead', 'dead', 'dead', 'survived', 'dead', None, None, None, 'dead', None, None, 'dead', 'dead', 'dead', 'dead', None, None, None, None, 'dead', 'survived', 'survived', 'dead', None, None, 'survived', None, 'survived', None, None, None, 'dead', None, None, 'dead', None, 'dead', None, 'survived', 'dead', 'dead', 'dead', 'survived', 'dead', None, 'dead', None, None, None, 'dead', None, 'survived', None, None, 'dead', None, 'dead', None, None, 'survived', 'survived', 'dead', 'dead', None, None, 'survived', 'dead', 'survived', 'dead', None, None, None, 'dead', None, 'dead', 'survived', None, None, 'dead', 'dead', None, 'survived', None, None, None, 'dead', 'survived', 'dead', 'survived', None, None, 'dead', None, None, 'dead', 'survived', 'dead', 'dead', 'dead', None, None, 'dead', 'survived', 'dead', 'dead', 'dead', 'dead', None, None, 'dead', 'survived', None, None, 'dead', 'survived', 'dead', None, 'dead', 'dead', 'dead', 'dead', None, 'dead', 'dead', None, None, None, None, 'survived', 'dead', None, 'survived', 'survived', None, 'survived', None, 'dead', None, None, None, None, 'survived', None, 'dead', 'survived', 'survived', 'dead', 'dead', None, None, None, 'dead', None, 'survived', 'survived', 'dead', 'dead', None, None, None, None, 'dead', 'dead', None, None, 'dead', 'survived', 'dead', 'dead', None]\n"
     ]
    }
   ],
   "source": [
    "print(y_pred)"
   ]
  },
  {
   "cell_type": "code",
   "execution_count": 42,
   "metadata": {},
   "outputs": [
    {
     "name": "stdout",
     "output_type": "stream",
     "text": [
      "     Survived\n",
      "0           0\n",
      "1           0\n",
      "2           0\n",
      "3           0\n",
      "4           1\n",
      "5           0\n",
      "6           0\n",
      "7           1\n",
      "8           0\n",
      "9           1\n",
      "10          0\n",
      "11          0\n",
      "12          1\n",
      "13          0\n",
      "14          0\n",
      "15          0\n",
      "16          0\n",
      "17          0\n",
      "18          1\n",
      "19          0\n",
      "20          1\n",
      "21          1\n",
      "22          1\n",
      "23          0\n",
      "24          1\n",
      "25          0\n",
      "26          1\n",
      "27          0\n",
      "28          1\n",
      "29          0\n",
      "..        ...\n",
      "238         0\n",
      "239         1\n",
      "240         0\n",
      "241         0\n",
      "242         1\n",
      "243         1\n",
      "244         0\n",
      "245         0\n",
      "246         1\n",
      "247         0\n",
      "248         1\n",
      "249         0\n",
      "250         0\n",
      "251         1\n",
      "252         1\n",
      "253         0\n",
      "254         0\n",
      "255         0\n",
      "256         1\n",
      "257         1\n",
      "258         0\n",
      "259         0\n",
      "260         0\n",
      "261         0\n",
      "262         0\n",
      "263         0\n",
      "264         1\n",
      "265         0\n",
      "266         1\n",
      "267         0\n",
      "\n",
      "[268 rows x 1 columns]\n"
     ]
    }
   ],
   "source": [
    "y_actual=test_data[output_cols]\n",
    "print(y_actual)"
   ]
  },
  {
   "cell_type": "code",
   "execution_count": null,
   "metadata": {},
   "outputs": [],
   "source": [
    "le=LabelEncoder()\n",
    "y_pred=le.fit_transform()"
   ]
  }
 ],
 "metadata": {
  "kernelspec": {
   "display_name": "Python 3",
   "language": "python",
   "name": "python3"
  },
  "language_info": {
   "codemirror_mode": {
    "name": "ipython",
    "version": 3
   },
   "file_extension": ".py",
   "mimetype": "text/x-python",
   "name": "python",
   "nbconvert_exporter": "python",
   "pygments_lexer": "ipython3",
   "version": "3.7.3"
  }
 },
 "nbformat": 4,
 "nbformat_minor": 2
}
