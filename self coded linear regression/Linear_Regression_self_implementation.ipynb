{
 "cells": [
  {
   "cell_type": "code",
   "execution_count": 13,
   "metadata": {},
   "outputs": [],
   "source": [
    "import numpy as np\n",
    "import pandas as pd\n",
    "import matplotlib.pyplot as plt "
   ]
  },
  {
   "cell_type": "code",
   "execution_count": 31,
   "metadata": {},
   "outputs": [],
   "source": [
    "X=pd.read_csv(\"Training Data/Linear_X_Train.csv\")\n",
    "y=pd.read_csv(\"Training Data/Linear_Y_Train.csv\")"
   ]
  },
  {
   "cell_type": "code",
   "execution_count": 16,
   "metadata": {},
   "outputs": [
    {
     "name": "stdout",
     "output_type": "stream",
     "text": [
      "          x\n",
      "0 -0.289307\n",
      "1 -0.588810\n",
      "2  1.027507\n",
      "3 -0.259013\n",
      "4  0.782043\n",
      "(3750, 1)\n",
      "           y\n",
      "0  -0.091101\n",
      "1 -53.467721\n",
      "2  75.457009\n",
      "3 -12.025286\n",
      "4  57.414187\n"
     ]
    }
   ],
   "source": [
    "print(X.head())\n",
    "# print(X)   \n",
    "print(X.shape)\n",
    "# print(X[0])\n",
    "print(y.head())"
   ]
  },
  {
   "cell_type": "code",
   "execution_count": 19,
   "metadata": {},
   "outputs": [
    {
     "name": "stdout",
     "output_type": "stream",
     "text": [
      "[[-0.28930742]\n",
      " [-0.58880963]\n",
      " [ 1.02750749]\n",
      " ...\n",
      " [-0.30516366]\n",
      " [ 1.67583291]\n",
      " [-0.49175724]]\n",
      "[[-9.11011171e-02]\n",
      " [-5.34677208e+01]\n",
      " [ 7.54570088e+01]\n",
      " ...\n",
      " [-3.49832749e+01]\n",
      " [ 1.45206092e+02]\n",
      " [-1.71244939e+01]]\n"
     ]
    }
   ],
   "source": [
    "X=X.values\n",
    "y=y.values\n",
    "print(X)\n",
    "print(y)"
   ]
  },
  {
   "cell_type": "code",
   "execution_count": 5,
   "metadata": {},
   "outputs": [
    {
     "name": "stdout",
     "output_type": "stream",
     "text": [
      "<class 'numpy.ndarray'>\n",
      "[[-0.28930742]\n",
      " [-0.58880963]\n",
      " [ 1.02750749]\n",
      " ...\n",
      " [-0.30516366]\n",
      " [ 1.67583291]\n",
      " [-0.49175724]]\n"
     ]
    }
   ],
   "source": [
    "print(type(X))\n",
    "print(X)"
   ]
  },
  {
   "cell_type": "code",
   "execution_count": 20,
   "metadata": {},
   "outputs": [],
   "source": [
    "def hypothesis(theta,X):\n",
    "    return theta[0]+theta[1]*X    #//finally returning a scalar value"
   ]
  },
  {
   "cell_type": "code",
   "execution_count": 7,
   "metadata": {},
   "outputs": [],
   "source": [
    "def error(X,theta,y):\n",
    "    steps=X.shape[0]\n",
    "    avg_error=0\n",
    "    for i in range(steps):\n",
    "        y_=hypothesis(X[i],theta)\n",
    "        avg_error+=(y_-y[i])**2\n",
    "    return avg_error\n",
    "    "
   ]
  },
  {
   "cell_type": "code",
   "execution_count": 21,
   "metadata": {},
   "outputs": [],
   "source": [
    "def gradient(X,theta,y):\n",
    "    steps=X.shape[0]  #no of rows\n",
    "    grad=np.zeros((2,))\n",
    "    for i in range(steps):\n",
    "        y_=hypothesis(theta,X[i])\n",
    "        grad[0]=grad[0]+y_-y[i]\n",
    "        grad[1]=grad[1]+(y_-y[i])*X[i]\n",
    "    return grad/steps\n",
    "    "
   ]
  },
  {
   "cell_type": "code",
   "execution_count": 24,
   "metadata": {},
   "outputs": [],
   "source": [
    "def gradient_descent(X,y,learning_rate=.1,max_steps=100):\n",
    "    theta=np.zeros((2,)) \n",
    "    \"\"\"assigning arbitirary values of zero to both theta_0 and theta_1  \"\"\"\n",
    "#     error_list=[]\n",
    "#     theta_list=[]\n",
    "    \n",
    "    \"\"\" we have to minimise the loss function J(theta) ,J_theta is a function of two parameters\n",
    "    theta_0 and theta_1\"\"\"\n",
    "    \n",
    "    \"\"\"error list contains the variation of error and theta_list contains variation of theta\"\"\"\n",
    "    \n",
    "    for i in range(max_steps):\n",
    "        grad=gradient(X,theta,y)\n",
    "#         error=error(X,theta,y)\n",
    "        \"\"\"calculating error now for plotting later\"\"\"\n",
    "        theta[0]=theta[0]-learning_rate*grad[0]\n",
    "        theta[1]=theta[1]-learning_rate*grad[1]\n",
    "#         theta_list.append((grad[0],grad[1]))   \n",
    "#         error_list.append(error)\n",
    "#         return theta,error_list,theta_list\n",
    "    return theta"
   ]
  },
  {
   "cell_type": "code",
   "execution_count": 25,
   "metadata": {},
   "outputs": [],
   "source": [
    "# theta,error_list,theta_list=gradient_descent(X,y)\n",
    "theta=gradient_descent(X,y)"
   ]
  },
  {
   "cell_type": "code",
   "execution_count": 28,
   "metadata": {},
   "outputs": [],
   "source": [
    "# X=pd.read_csv(\"Test Cases/Linear_X_Test.csv\")\n",
    "# y=pd.read_csv(\"Test Cases/sample_submission_linear.csv\")\n",
    "y_=hypothesis(theta,X)"
   ]
  },
  {
   "cell_type": "code",
   "execution_count": 51,
   "metadata": {},
   "outputs": [
    {
     "data": {
      "image/png": "[encoded data removed]",
      "text/plain": [
       "<Figure size 576x576 with 1 Axes>"
      ]
     },
     "metadata": {},
     "output_type": "display_data"
    }
   ],
   "source": [
    "plt.figure(figsize=(8,8))\n",
    "plt.style.use('seaborn')\n",
    "plt.plot(X,y_,color=\"green\",label=\"prediction\")\n",
    "plt.scatter(X,y,color=\"orange\")\n",
    "plt.legend()\n",
    "plt.title(\"Linear regression\")\n",
    "plt.show()"
   ]
  },
  {
   "cell_type": "code",
   "execution_count": 38,
   "metadata": {},
   "outputs": [],
   "source": [
    "X=pd.read_csv(\"Training Data/Linear_X_Train.csv\")\n",
    "y=pd.read_csv(\"Training Data/Linear_Y_Train.csv\")\n",
    "X=X.values\n",
    "y=y.values"
   ]
  },
  {
   "cell_type": "code",
   "execution_count": 39,
   "metadata": {},
   "outputs": [
    {
     "name": "stdout",
     "output_type": "stream",
     "text": [
      "[[-9.11011171e-02]\n",
      " [-5.34677208e+01]\n",
      " [ 7.54570088e+01]\n",
      " ...\n",
      " [-3.49832749e+01]\n",
      " [ 1.45206092e+02]\n",
      " [-1.71244939e+01]]\n",
      "\n",
      " [[-19.57419108]\n",
      " [-43.69635897]\n",
      " [ 86.48322254]\n",
      " ...\n",
      " [-20.85126634]\n",
      " [138.69991375]\n",
      " [-35.87967507]]\n"
     ]
    }
   ],
   "source": []
  }
 ],
 "metadata": {
  "kernelspec": {
   "display_name": "Python 3",
   "language": "python",
   "name": "python3"
  },
  "language_info": {
   "codemirror_mode": {
    "name": "ipython",
    "version": 3
   },
   "file_extension": ".py",
   "mimetype": "text/x-python",
   "name": "python",
   "nbconvert_exporter": "python",
   "pygments_lexer": "ipython3",
   "version": "3.8.5"
  }
 },
 "nbformat": 4,
 "nbformat_minor": 2
}
