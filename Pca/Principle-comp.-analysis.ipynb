{
 "cells": [
  {
   "cell_type": "code",
   "execution_count": 3,
   "metadata": {},
   "outputs": [],
   "source": [
    "from keras.datasets import mnist\n",
    "import matplotlib.pyplot as plt\n",
    "from sklearn.preprocessing import StandardScaler\n",
    "from sklearn.decomposition import PCA\n",
    "import numpy as np\n",
    "import pandas as pd\n",
    "import seaborn as sns"
   ]
  },
  {
   "cell_type": "code",
   "execution_count": 4,
   "metadata": {},
   "outputs": [],
   "source": [
    "(x_train,y_train),(x_test,y_test)=mnist.load_data()"
   ]
  },
  {
   "cell_type": "code",
   "execution_count": 6,
   "metadata": {},
   "outputs": [
    {
     "name": "stdout",
     "output_type": "stream",
     "text": [
      "(60000, 28, 28)\n",
      "(60000,)\n",
      "(10000, 28, 28)\n",
      "(10000,)\n"
     ]
    }
   ],
   "source": [
    "print(x_train.shape)\n",
    "print(y_train.shape)\n",
    "print(x_test.shape)\n",
    "print(y_test.shape)"
   ]
  },
  {
   "cell_type": "code",
   "execution_count": 15,
   "metadata": {},
   "outputs": [
    {
     "name": "stdout",
     "output_type": "stream",
     "text": [
      "[[[0 0 0 ... 0 0 0]\n",
      "  [0 0 0 ... 0 0 0]\n",
      "  [0 0 0 ... 0 0 0]\n",
      "  ...\n",
      "  [0 0 0 ... 0 0 0]\n",
      "  [0 0 0 ... 0 0 0]\n",
      "  [0 0 0 ... 0 0 0]]\n",
      "\n",
      " [[0 0 0 ... 0 0 0]\n",
      "  [0 0 0 ... 0 0 0]\n",
      "  [0 0 0 ... 0 0 0]\n",
      "  ...\n",
      "  [0 0 0 ... 0 0 0]\n",
      "  [0 0 0 ... 0 0 0]\n",
      "  [0 0 0 ... 0 0 0]]]\n"
     ]
    }
   ],
   "source": [
    "print(x_test[60:62,:])   #random "
   ]
  },
  {
   "cell_type": "code",
   "execution_count": 29,
   "metadata": {},
   "outputs": [
    {
     "data": {
      "text/plain": [
       "<matplotlib.image.AxesImage at 0x2733d0e7f98>"
      ]
     },
     "execution_count": 29,
     "metadata": {},
     "output_type": "execute_result"
    },
    {
     "data": {
      "image/png": "[encoded data removed]",
      "text/plain": [
       "<Figure size 432x288 with 1 Axes>"
      ]
     },
     "metadata": {
      "needs_background": "light"
     },
     "output_type": "display_data"
    }
   ],
   "source": [
    "plt.imshow(x_test[0],cmap=\"gray\")"
   ]
  },
  {
   "cell_type": "code",
   "execution_count": 30,
   "metadata": {},
   "outputs": [],
   "source": [
    "x=x_test.reshape(-1,28*28)\n",
    "y=y_test"
   ]
  },
  {
   "cell_type": "code",
   "execution_count": 31,
   "metadata": {},
   "outputs": [
    {
     "name": "stdout",
     "output_type": "stream",
     "text": [
      "[[0 0 0 ... 0 0 0]\n",
      " [0 0 0 ... 0 0 0]]\n"
     ]
    }
   ],
   "source": [
    "print(x[:2,:])"
   ]
  },
  {
   "cell_type": "code",
   "execution_count": 32,
   "metadata": {},
   "outputs": [
    {
     "name": "stdout",
     "output_type": "stream",
     "text": [
      "(10000, 784)\n",
      "(10000,)\n"
     ]
    }
   ],
   "source": [
    "print(x.shape)\n",
    "print(y.shape)"
   ]
  },
  {
   "cell_type": "code",
   "execution_count": null,
   "metadata": {},
   "outputs": [],
   "source": []
  },
  {
   "cell_type": "code",
   "execution_count": 34,
   "metadata": {},
   "outputs": [
    {
     "name": "stderr",
     "output_type": "stream",
     "text": [
      "C:\\Users\\KIIT\\Anaconda3\\lib\\site-packages\\sklearn\\utils\\validation.py:595: DataConversionWarning: Data with input dtype uint8 was converted to float64 by StandardScaler.\n",
      "  warnings.warn(msg, DataConversionWarning)\n"
     ]
    },
    {
     "name": "stdout",
     "output_type": "stream",
     "text": [
      "(10000, 784)\n"
     ]
    },
    {
     "name": "stderr",
     "output_type": "stream",
     "text": [
      "C:\\Users\\KIIT\\Anaconda3\\lib\\site-packages\\sklearn\\utils\\validation.py:595: DataConversionWarning: Data with input dtype uint8 was converted to float64 by StandardScaler.\n",
      "  warnings.warn(msg, DataConversionWarning)\n"
     ]
    }
   ],
   "source": [
    "sc=StandardScaler()\n",
    "x_=sc.fit_transform(x)\n",
    "print(x_.shape)"
   ]
  },
  {
   "cell_type": "code",
   "execution_count": 37,
   "metadata": {},
   "outputs": [
    {
     "name": "stdout",
     "output_type": "stream",
     "text": [
      "1\n"
     ]
    }
   ],
   "source": [
    "print(y[2])"
   ]
  },
  {
   "cell_type": "code",
   "execution_count": 38,
   "metadata": {},
   "outputs": [
    {
     "data": {
      "text/plain": [
       "<matplotlib.image.AxesImage at 0x2733d150048>"
      ]
     },
     "execution_count": 38,
     "metadata": {},
     "output_type": "execute_result"
    },
    {
     "data": {
      "image/png": "[encoded data removed]",
      "text/plain": [
       "<Figure size 432x288 with 1 Axes>"
      ]
     },
     "metadata": {
      "needs_background": "light"
     },
     "output_type": "display_data"
    }
   ],
   "source": [
    "plt.imshow(x_[2].reshape(28,28),cmap=\"gray\")"
   ]
  },
  {
   "cell_type": "code",
   "execution_count": 39,
   "metadata": {},
   "outputs": [],
   "source": [
    "pca=PCA(n_components=2)  # reducing to two components"
   ]
  },
  {
   "cell_type": "code",
   "execution_count": 40,
   "metadata": {},
   "outputs": [],
   "source": [
    "z_pca=pca.fit_transform(x_)"
   ]
  },
  {
   "cell_type": "code",
   "execution_count": 41,
   "metadata": {},
   "outputs": [
    {
     "name": "stdout",
     "output_type": "stream",
     "text": [
      "(10000, 2)\n"
     ]
    }
   ],
   "source": [
    "print(z_pca.shape)        #dimensions reduced to two"
   ]
  },
  {
   "cell_type": "code",
   "execution_count": 43,
   "metadata": {},
   "outputs": [
    {
     "name": "stdout",
     "output_type": "stream",
     "text": [
      "[[-5.45829629  6.41387811]\n",
      " [ 2.80449448 -8.02979235]\n",
      " [-7.41124009 -3.8635933 ]\n",
      " [ 8.75126518  0.04657875]]\n"
     ]
    }
   ],
   "source": [
    "print(z_pca[:4,:])"
   ]
  },
  {
   "cell_type": "code",
   "execution_count": 45,
   "metadata": {},
   "outputs": [
    {
     "name": "stdout",
     "output_type": "stream",
     "text": [
      "[41.39893397 28.35105785]\n"
     ]
    }
   ],
   "source": [
    "print(pca.explained_variance_)  #total=41+28=around 70 %"
   ]
  },
  {
   "cell_type": "raw",
   "metadata": {},
   "source": [
    "CONSIDERING ALL DIMENSIONS"
   ]
  },
  {
   "cell_type": "code",
   "execution_count": 46,
   "metadata": {},
   "outputs": [],
   "source": [
    "pca=PCA()"
   ]
  },
  {
   "cell_type": "code",
   "execution_count": 47,
   "metadata": {},
   "outputs": [],
   "source": [
    "z_pca=pca.fit_transform(x_)"
   ]
  },
  {
   "cell_type": "code",
   "execution_count": 48,
   "metadata": {},
   "outputs": [
    {
     "name": "stdout",
     "output_type": "stream",
     "text": [
      "(10000, 784)\n"
     ]
    }
   ],
   "source": [
    "print(z_pca.shape)  #All dimensions present"
   ]
  },
  {
   "cell_type": "code",
   "execution_count": 51,
   "metadata": {},
   "outputs": [
    {
     "name": "stdout",
     "output_type": "stream",
     "text": [
      "[4.13989340e+01 2.83510581e+01 2.70196465e+01 2.15824995e+01\n",
      " 1.84057252e+01 1.60945634e+01 1.36639090e+01 1.25807315e+01\n",
      " 1.11624006e+01 1.01380790e+01 9.83450164e+00 8.75790204e+00\n",
      " 8.38544770e+00 7.97784570e+00 7.64886637e+00 7.31512409e+00\n",
      " 6.89333872e+00 6.64082579e+00 6.32396933e+00 6.08974669e+00\n",
      " 5.94234357e+00 5.78338241e+00 5.65926201e+00 5.48906732e+00\n",
      " 5.25427495e+00 5.14680013e+00 5.05462485e+00 4.89770948e+00\n",
      " 4.73536524e+00 4.56603235e+00 4.46677346e+00 4.37046128e+00\n",
      " 4.32323658e+00 4.15557409e+00 4.03609421e+00 3.95423005e+00\n",
      " 3.88875015e+00 3.82939953e+00 3.77880871e+00 3.69226086e+00\n",
      " 3.68222396e+00 3.66141824e+00 3.56686939e+00 3.47145867e+00\n",
      " 3.42387456e+00 3.33512759e+00 3.32686280e+00 3.26786201e+00\n",
      " 3.19850249e+00 3.13279782e+00 3.07617536e+00 3.03401082e+00\n",
      " 2.97856834e+00 2.94000449e+00 2.89943744e+00 2.83019996e+00\n",
      " 2.80306845e+00 2.76761484e+00 2.74981888e+00 2.70984991e+00\n",
      " 2.67663139e+00 2.58228202e+00 2.54698454e+00 2.50771929e+00\n",
      " 2.44812156e+00 2.41234201e+00 2.38465872e+00 2.34014530e+00\n",
      " 2.31790529e+00 2.29933704e+00 2.24246275e+00 2.23040862e+00\n",
      " 2.20603291e+00 2.18295015e+00 2.16408871e+00 2.12948488e+00\n",
      " 2.10186492e+00 2.06641154e+00 2.05233567e+00 2.01543315e+00\n",
      " 1.98992023e+00 1.94462532e+00 1.91875422e+00 1.90110211e+00\n",
      " 1.87935714e+00 1.83849178e+00 1.81740566e+00 1.79779251e+00\n",
      " 1.78186596e+00 1.75957728e+00 1.72993112e+00 1.70030500e+00\n",
      " 1.68548174e+00 1.65911260e+00 1.63268328e+00 1.62351508e+00\n",
      " 1.59141271e+00 1.57027232e+00 1.54785293e+00 1.54314955e+00\n",
      " 1.52662104e+00 1.51401567e+00 1.49069093e+00 1.48079635e+00\n",
      " 1.43884201e+00 1.42792510e+00 1.41751354e+00 1.39417832e+00\n",
      " 1.38935627e+00 1.36679682e+00 1.36490275e+00 1.35546063e+00\n",
      " 1.31733358e+00 1.30996634e+00 1.29836725e+00 1.28724190e+00\n",
      " 1.26791667e+00 1.25678609e+00 1.21999380e+00 1.19570764e+00\n",
      " 1.18875659e+00 1.15383550e+00 1.14650520e+00 1.12579433e+00\n",
      " 1.11617021e+00 1.10747273e+00 1.10059894e+00 1.08812954e+00\n",
      " 1.07162821e+00 1.06730635e+00 1.05930709e+00 1.04408836e+00\n",
      " 1.03862316e+00 1.02498572e+00 1.01858401e+00 1.00205460e+00\n",
      " 9.98704550e-01 9.96896726e-01 9.82583274e-01 9.77379857e-01\n",
      " 9.70674077e-01 9.61216060e-01 9.42378604e-01 9.32683092e-01\n",
      " 9.21643568e-01 9.20029732e-01 9.09001266e-01 9.06416177e-01\n",
      " 8.93690875e-01 8.82325429e-01 8.71234315e-01 8.66655073e-01\n",
      " 8.63139796e-01 8.57190095e-01 8.49577587e-01 8.36590366e-01\n",
      " 8.28135792e-01 8.14165498e-01 8.06251070e-01 7.88791918e-01\n",
      " 7.82951119e-01 7.76370196e-01 7.70381981e-01 7.59195422e-01\n",
      " 7.52240770e-01 7.48469379e-01 7.42052013e-01 7.24932417e-01\n",
      " 7.19680680e-01 7.17902404e-01 7.11628203e-01 7.06152514e-01\n",
      " 6.92195371e-01 6.84174235e-01 6.76326938e-01 6.61926695e-01\n",
      " 6.57397281e-01 6.53586587e-01 6.48578481e-01 6.46813202e-01\n",
      " 6.36683837e-01 6.29580856e-01 6.25774527e-01 6.18687490e-01\n",
      " 6.16367800e-01 6.11272731e-01 6.03397558e-01 5.97997287e-01\n",
      " 5.88817090e-01 5.85184718e-01 5.80397152e-01 5.70596885e-01\n",
      " 5.67231964e-01 5.64877286e-01 5.57282882e-01 5.54161561e-01\n",
      " 5.47199762e-01 5.40478537e-01 5.31202360e-01 5.25836009e-01\n",
      " 5.24800393e-01 5.21212713e-01 5.13868234e-01 5.08005194e-01\n",
      " 5.06441736e-01 4.99461869e-01 4.92503027e-01 4.88997223e-01\n",
      " 4.85417088e-01 4.79994624e-01 4.75609157e-01 4.69742874e-01\n",
      " 4.66333572e-01 4.57459885e-01 4.54670703e-01 4.52710773e-01\n",
      " 4.47518737e-01 4.44928618e-01 4.39912699e-01 4.32571049e-01\n",
      " 4.28167510e-01 4.27598806e-01 4.23599637e-01 4.20381958e-01\n",
      " 4.16586679e-01 4.15278222e-01 4.06706387e-01 4.04469993e-01\n",
      " 3.99891588e-01 3.99156504e-01 3.95081319e-01 3.92029856e-01\n",
      " 3.87244404e-01 3.84833052e-01 3.83246876e-01 3.79236067e-01\n",
      " 3.74451374e-01 3.67882825e-01 3.65515102e-01 3.60807507e-01\n",
      " 3.57755364e-01 3.55797146e-01 3.54963096e-01 3.50437046e-01\n",
      " 3.47861608e-01 3.43733367e-01 3.39053048e-01 3.36906007e-01\n",
      " 3.34844536e-01 3.31951323e-01 3.27586564e-01 3.23155714e-01\n",
      " 3.21826229e-01 3.14742371e-01 3.11837013e-01 3.09526285e-01\n",
      " 3.08567307e-01 3.05985463e-01 3.04088348e-01 3.02772737e-01\n",
      " 3.01567650e-01 2.96701566e-01 2.94380991e-01 2.91850292e-01\n",
      " 2.88695399e-01 2.85783225e-01 2.83861175e-01 2.80724585e-01\n",
      " 2.79190195e-01 2.77597521e-01 2.73192004e-01 2.70941180e-01\n",
      " 2.68684571e-01 2.66394041e-01 2.65018347e-01 2.62971612e-01\n",
      " 2.62243718e-01 2.60227678e-01 2.57857973e-01 2.55449454e-01\n",
      " 2.54001877e-01 2.49581773e-01 2.46662818e-01 2.45366088e-01\n",
      " 2.43223437e-01 2.40045692e-01 2.39231002e-01 2.37414496e-01\n",
      " 2.35819996e-01 2.32808012e-01 2.30369115e-01 2.28820980e-01\n",
      " 2.26979718e-01 2.26905161e-01 2.25729968e-01 2.23311773e-01\n",
      " 2.21761735e-01 2.18386622e-01 2.16586279e-01 2.15186452e-01\n",
      " 2.13192113e-01 2.10467778e-01 2.09425345e-01 2.09229181e-01\n",
      " 2.06060065e-01 2.04204572e-01 2.02582101e-01 2.02506347e-01\n",
      " 2.00874423e-01 1.99109417e-01 1.95769761e-01 1.94904987e-01\n",
      " 1.93585002e-01 1.92187735e-01 1.91147948e-01 1.90252317e-01\n",
      " 1.88542746e-01 1.87113294e-01 1.86425600e-01 1.84477541e-01\n",
      " 1.82996261e-01 1.80661688e-01 1.79251360e-01 1.78864384e-01\n",
      " 1.77484038e-01 1.76477219e-01 1.74381168e-01 1.72599212e-01\n",
      " 1.71125489e-01 1.70752633e-01 1.67802695e-01 1.66477809e-01\n",
      " 1.64912511e-01 1.63651628e-01 1.62562170e-01 1.61142024e-01\n",
      " 1.59512256e-01 1.58686096e-01 1.57380684e-01 1.56132437e-01\n",
      " 1.55220127e-01 1.54858811e-01 1.52453603e-01 1.51211164e-01\n",
      " 1.50845490e-01 1.49861619e-01 1.49110104e-01 1.47791434e-01\n",
      " 1.46399911e-01 1.45368436e-01 1.44793853e-01 1.43769378e-01\n",
      " 1.42621621e-01 1.42201920e-01 1.40773576e-01 1.40020673e-01\n",
      " 1.39483920e-01 1.37814747e-01 1.37351105e-01 1.35946407e-01\n",
      " 1.35148994e-01 1.33257592e-01 1.32828766e-01 1.32161251e-01\n",
      " 1.31696698e-01 1.31309522e-01 1.30599261e-01 1.29984980e-01\n",
      " 1.28501371e-01 1.27254339e-01 1.26894990e-01 1.25733124e-01\n",
      " 1.25367582e-01 1.24514577e-01 1.22908353e-01 1.22286014e-01\n",
      " 1.20709245e-01 1.20243469e-01 1.19681117e-01 1.19134402e-01\n",
      " 1.18754832e-01 1.18193477e-01 1.16456053e-01 1.15776494e-01\n",
      " 1.15149042e-01 1.14164628e-01 1.12994842e-01 1.12638397e-01\n",
      " 1.11972867e-01 1.11297869e-01 1.10004526e-01 1.09601920e-01\n",
      " 1.08941788e-01 1.08430050e-01 1.07891636e-01 1.07042641e-01\n",
      " 1.06694310e-01 1.05743390e-01 1.04830646e-01 1.04390751e-01\n",
      " 1.04022372e-01 1.03486363e-01 1.03151186e-01 1.01718415e-01\n",
      " 1.01465857e-01 1.00516432e-01 1.00468294e-01 9.95778355e-02\n",
      " 9.82901098e-02 9.74991810e-02 9.72025156e-02 9.67936556e-02\n",
      " 9.58340041e-02 9.54737445e-02 9.52435821e-02 9.46008853e-02\n",
      " 9.39458912e-02 9.35531345e-02 9.26509465e-02 9.25361869e-02\n",
      " 9.14835500e-02 9.13395040e-02 9.06759253e-02 9.00701458e-02\n",
      " 8.94463153e-02 8.88419331e-02 8.86087614e-02 8.80856890e-02\n",
      " 8.76860822e-02 8.75274826e-02 8.65105313e-02 8.61901547e-02\n",
      " 8.55964760e-02 8.52964714e-02 8.43599463e-02 8.39006378e-02\n",
      " 8.32246201e-02 8.28715527e-02 8.26701423e-02 8.23424759e-02\n",
      " 8.20411230e-02 8.13267236e-02 8.07750254e-02 8.04059151e-02\n",
      " 8.00730090e-02 7.99111122e-02 7.92579862e-02 7.87648954e-02\n",
      " 7.83215554e-02 7.75291069e-02 7.72660442e-02 7.66912128e-02\n",
      " 7.59686903e-02 7.57714756e-02 7.54177476e-02 7.49884760e-02\n",
      " 7.46434146e-02 7.42158079e-02 7.34919544e-02 7.30313674e-02\n",
      " 7.29783550e-02 7.24897187e-02 7.21305690e-02 7.18743841e-02\n",
      " 7.16278733e-02 7.13960799e-02 7.07290639e-02 7.05557131e-02\n",
      " 6.99353103e-02 6.94121014e-02 6.90783953e-02 6.87574376e-02\n",
      " 6.83256781e-02 6.80974928e-02 6.73268751e-02 6.67934054e-02\n",
      " 6.67599962e-02 6.61926184e-02 6.59561707e-02 6.53115968e-02\n",
      " 6.50758998e-02 6.46175001e-02 6.43856437e-02 6.39952498e-02\n",
      " 6.37710379e-02 6.31726508e-02 6.27013453e-02 6.23283307e-02\n",
      " 6.19205827e-02 6.18507203e-02 6.15628820e-02 6.14899148e-02\n",
      " 6.08222259e-02 6.02338180e-02 6.01878838e-02 5.97945729e-02\n",
      " 5.96340763e-02 5.90137979e-02 5.87525007e-02 5.84994500e-02\n",
      " 5.84627548e-02 5.82193400e-02 5.76272690e-02 5.71572175e-02\n",
      " 5.69749116e-02 5.64363020e-02 5.62981378e-02 5.61218035e-02\n",
      " 5.57975218e-02 5.52735660e-02 5.48455595e-02 5.45195708e-02\n",
      " 5.43210667e-02 5.42258581e-02 5.36820186e-02 5.35292838e-02\n",
      " 5.30197778e-02 5.28912465e-02 5.21492447e-02 5.20905469e-02\n",
      " 5.12865044e-02 5.11116000e-02 5.09581318e-02 5.08465253e-02\n",
      " 5.04624593e-02 5.02798554e-02 5.00430351e-02 4.93665743e-02\n",
      " 4.91286702e-02 4.89962371e-02 4.87360961e-02 4.82837172e-02\n",
      " 4.80727751e-02 4.78360806e-02 4.75516898e-02 4.72512108e-02\n",
      " 4.69600303e-02 4.66035165e-02 4.65758262e-02 4.63897659e-02\n",
      " 4.63114980e-02 4.58428289e-02 4.57597410e-02 4.53428734e-02\n",
      " 4.48292439e-02 4.44280413e-02 4.42892297e-02 4.39170027e-02\n",
      " 4.37332629e-02 4.35802088e-02 4.31301942e-02 4.30074975e-02\n",
      " 4.27685843e-02 4.22639610e-02 4.20793237e-02 4.19418157e-02\n",
      " 4.18808241e-02 4.17070133e-02 4.14929690e-02 4.10174165e-02\n",
      " 4.03874899e-02 4.02587769e-02 4.01041924e-02 3.99175210e-02\n",
      " 3.96958089e-02 3.94036250e-02 3.92281309e-02 3.91696505e-02\n",
      " 3.86820953e-02 3.85030868e-02 3.83711185e-02 3.77052620e-02\n",
      " 3.76143458e-02 3.74348166e-02 3.71379726e-02 3.66938634e-02\n",
      " 3.65184150e-02 3.63321766e-02 3.62711033e-02 3.60860245e-02\n",
      " 3.58941997e-02 3.55869151e-02 3.53095529e-02 3.50326508e-02\n",
      " 3.49815388e-02 3.46662149e-02 3.44864988e-02 3.39904777e-02\n",
      " 3.38856003e-02 3.35830704e-02 3.34379578e-02 3.31562556e-02\n",
      " 3.28580535e-02 3.27955114e-02 3.24746853e-02 3.22141578e-02\n",
      " 3.19812732e-02 3.18339449e-02 3.15947123e-02 3.14608117e-02\n",
      " 3.11082753e-02 3.09467493e-02 3.07655533e-02 3.03780565e-02\n",
      " 3.02616402e-02 2.99913818e-02 2.99657149e-02 2.94900764e-02\n",
      " 2.93013601e-02 2.92112089e-02 2.90415452e-02 2.86831474e-02\n",
      " 2.86034334e-02 2.83111819e-02 2.79864355e-02 2.78005985e-02\n",
      " 2.76214056e-02 2.74957990e-02 2.73763566e-02 2.70008577e-02\n",
      " 2.67733610e-02 2.64689881e-02 2.62415180e-02 2.60989653e-02\n",
      " 2.60499921e-02 2.59397468e-02 2.58253932e-02 2.54307207e-02\n",
      " 2.50119839e-02 2.49194231e-02 2.47738075e-02 2.45081543e-02\n",
      " 2.44284778e-02 2.38702465e-02 2.37980101e-02 2.35473795e-02\n",
      " 2.33198526e-02 2.28743756e-02 2.27823589e-02 2.24453601e-02\n",
      " 2.21021836e-02 2.19816906e-02 2.17149308e-02 2.14094098e-02\n",
      " 2.13281967e-02 2.11885841e-02 2.08803611e-02 2.02419335e-02\n",
      " 2.01777634e-02 1.96995890e-02 1.92450567e-02 1.87784575e-02\n",
      " 1.84934889e-02 1.82163151e-02 1.77414917e-02 1.61343173e-02\n",
      " 1.58437122e-02 1.51164604e-02 1.09227499e-02 1.61862807e-03\n",
      " 5.33809088e-04 3.05350408e-27 1.32764561e-29 1.20534354e-29\n",
      " 4.15918218e-30 3.92520796e-30 3.16707127e-30 2.76625273e-30\n",
      " 2.59733877e-30 2.45287143e-30 2.38079226e-30 1.96227621e-30\n",
      " 1.58254552e-30 1.38171210e-30 1.31410694e-30 1.17893016e-30\n",
      " 1.04604625e-30 9.83191253e-31 9.74853853e-31 8.33883002e-31\n",
      " 7.56071086e-31 6.07549892e-31 5.90893377e-31 5.87814623e-31\n",
      " 4.67567657e-31 4.60063571e-31 4.55279075e-31 4.48773658e-31\n",
      " 4.42512714e-31 4.22357821e-31 3.20263414e-31 2.44769455e-31\n",
      " 2.32344386e-31 1.86078915e-31 1.75120753e-31 1.49582785e-31\n",
      " 1.38282304e-31 1.38282304e-31 1.38282304e-31 1.38282304e-31\n",
      " 1.38282304e-31 1.38282304e-31 1.38282304e-31 1.38282304e-31\n",
      " 1.38282304e-31 1.38282304e-31 1.38282304e-31 1.38282304e-31\n",
      " 1.38282304e-31 1.38282304e-31 1.38282304e-31 1.38282304e-31\n",
      " 1.38282304e-31 1.38282304e-31 1.38282304e-31 1.38282304e-31\n",
      " 1.38282304e-31 1.38282304e-31 1.38282304e-31 1.38282304e-31\n",
      " 1.38282304e-31 1.38282304e-31 1.38282304e-31 1.38282304e-31\n",
      " 1.38282304e-31 1.38282304e-31 1.38282304e-31 1.38282304e-31\n",
      " 1.38282304e-31 1.38282304e-31 1.38282304e-31 1.38282304e-31\n",
      " 1.38282304e-31 1.38282304e-31 1.38282304e-31 1.38282304e-31\n",
      " 1.38282304e-31 1.38282304e-31 1.38282304e-31 1.38282304e-31\n",
      " 1.38282304e-31 1.38282304e-31 1.38282304e-31 1.38282304e-31\n",
      " 1.38282304e-31 1.38282304e-31 1.38282304e-31 1.38282304e-31\n",
      " 1.38282304e-31 1.38282304e-31 1.38282304e-31 1.38282304e-31\n",
      " 1.38282304e-31 1.38282304e-31 1.38282304e-31 1.38282304e-31\n",
      " 1.38282304e-31 1.38282304e-31 1.38282304e-31 1.38282304e-31\n",
      " 1.38282304e-31 1.38282304e-31 1.38282304e-31 1.38282304e-31\n",
      " 1.38282304e-31 1.38282304e-31 1.38282304e-31 1.38282304e-31\n",
      " 1.38282304e-31 1.38282304e-31 1.38282304e-31 1.38282304e-31\n",
      " 1.38282304e-31 1.38282304e-31 1.10178074e-31 1.04253635e-31\n",
      " 7.66584798e-32 6.27962169e-32 5.49934942e-32 3.12192705e-32\n",
      " 2.80206272e-32 1.60523553e-32 1.24399976e-32 2.40883856e-33]\n"
     ]
    }
   ],
   "source": [
    "print(pca.explained_variance_)"
   ]
  },
  {
   "cell_type": "code",
   "execution_count": 52,
   "metadata": {},
   "outputs": [
    {
     "name": "stdout",
     "output_type": "stream",
     "text": [
      "[6.19682546e-02 4.24374595e-02 4.04445278e-02 3.23059001e-02\n",
      " 2.75507255e-02 2.40912485e-02 2.04529082e-02 1.88315470e-02\n",
      " 1.67085095e-02 1.51752473e-02 1.47208356e-02 1.31093207e-02\n",
      " 1.25518101e-02 1.19416885e-02 1.14492537e-02 1.09496895e-02\n",
      " 1.03183374e-02 9.94036184e-03 9.46607325e-03 9.11547562e-03\n",
      " 8.89483433e-03 8.65689233e-03 8.47110191e-03 8.21634492e-03\n",
      " 7.86489450e-03 7.70402013e-03 7.56604698e-03 7.33116722e-03\n",
      " 7.08816124e-03 6.83469424e-03 6.68611794e-03 6.54195245e-03\n",
      " 6.47126385e-03 6.22029721e-03 6.04145299e-03 5.91891411e-03\n",
      " 5.82090011e-03 5.73206076e-03 5.65633358e-03 5.52678388e-03\n",
      " 5.51176009e-03 5.48061691e-03 5.33909088e-03 5.19627473e-03\n",
      " 5.12504816e-03 4.99220670e-03 4.97983549e-03 4.89151980e-03\n",
      " 4.78769856e-03 4.68934811e-03 4.60459243e-03 4.54147817e-03\n",
      " 4.45848874e-03 4.40076420e-03 4.34004117e-03 4.23640261e-03\n",
      " 4.19579063e-03 4.14272167e-03 4.11608368e-03 4.05625587e-03\n",
      " 4.00653252e-03 3.86530508e-03 3.81246982e-03 3.75369538e-03\n",
      " 3.66448615e-03 3.61092931e-03 3.56949139e-03 3.50286120e-03\n",
      " 3.46957110e-03 3.44177710e-03 3.35664447e-03 3.33860116e-03\n",
      " 3.30211423e-03 3.26756266e-03 3.23932979e-03 3.18753284e-03\n",
      " 3.14618972e-03 3.09312111e-03 3.07205155e-03 3.01681378e-03\n",
      " 2.97862461e-03 2.91082463e-03 2.87209932e-03 2.84567665e-03\n",
      " 2.81312755e-03 2.75195798e-03 2.72039509e-03 2.69103702e-03\n",
      " 2.66719727e-03 2.63383431e-03 2.58945827e-03 2.54511223e-03\n",
      " 2.52292394e-03 2.48345312e-03 2.44389223e-03 2.43016876e-03\n",
      " 2.38211612e-03 2.35047199e-03 2.31691339e-03 2.30987311e-03\n",
      " 2.28513230e-03 2.26626388e-03 2.23135009e-03 2.21653933e-03\n",
      " 2.15373971e-03 2.13739866e-03 2.12181405e-03 2.08688458e-03\n",
      " 2.07966667e-03 2.04589842e-03 2.04306326e-03 2.02892977e-03\n",
      " 1.97185906e-03 1.96083135e-03 1.94346918e-03 1.92681613e-03\n",
      " 1.89788904e-03 1.88122816e-03 1.82615539e-03 1.78980250e-03\n",
      " 1.77939777e-03 1.72712592e-03 1.71615352e-03 1.68515233e-03\n",
      " 1.67074640e-03 1.65772751e-03 1.64743844e-03 1.62877354e-03\n",
      " 1.60407343e-03 1.59760423e-03 1.58563048e-03 1.56285022e-03\n",
      " 1.55466961e-03 1.53425632e-03 1.52467388e-03 1.49993173e-03\n",
      " 1.49491718e-03 1.49221113e-03 1.47078595e-03 1.46299718e-03\n",
      " 1.45295959e-03 1.43880230e-03 1.41060534e-03 1.39609255e-03\n",
      " 1.37956797e-03 1.37715229e-03 1.36064426e-03 1.35677475e-03\n",
      " 1.33772681e-03 1.32071437e-03 1.30411256e-03 1.29725809e-03\n",
      " 1.29199623e-03 1.28309038e-03 1.27169555e-03 1.25225555e-03\n",
      " 1.23960027e-03 1.21868875e-03 1.20684198e-03 1.18070814e-03\n",
      " 1.17196531e-03 1.16211461e-03 1.15315111e-03 1.13640644e-03\n",
      " 1.12599633e-03 1.12035110e-03 1.11074522e-03 1.08511965e-03\n",
      " 1.07725855e-03 1.07459673e-03 1.06520515e-03 1.05700883e-03\n",
      " 1.03611699e-03 1.02411050e-03 1.01236423e-03 9.90809135e-04\n",
      " 9.84029253e-04 9.78325193e-04 9.70828777e-04 9.68186407e-04\n",
      " 9.53024205e-04 9.42392062e-04 9.36694535e-04 9.26086259e-04\n",
      " 9.22614018e-04 9.14987431e-04 9.03199429e-04 8.95115999e-04\n",
      " 8.81374564e-04 8.75937425e-04 8.68771126e-04 8.54101535e-04\n",
      " 8.49064732e-04 8.45540117e-04 8.34172386e-04 8.29500216e-04\n",
      " 8.19079405e-04 8.09018697e-04 7.95133593e-04 7.87100937e-04\n",
      " 7.85550769e-04 7.80180526e-04 7.69186896e-04 7.60410769e-04\n",
      " 7.58070497e-04 7.47622638e-04 7.37206253e-04 7.31958568e-04\n",
      " 7.26599621e-04 7.18482971e-04 7.11918557e-04 7.03137575e-04\n",
      " 6.98034340e-04 6.84751706e-04 6.80576701e-04 6.77642968e-04\n",
      " 6.69871235e-04 6.65994200e-04 6.58486090e-04 6.47496695e-04\n",
      " 6.40905229e-04 6.40053961e-04 6.34067780e-04 6.29251377e-04\n",
      " 6.23570389e-04 6.21611818e-04 6.08781012e-04 6.05433453e-04\n",
      " 5.98580238e-04 5.97479923e-04 5.91379957e-04 5.86812355e-04\n",
      " 5.79649220e-04 5.76039774e-04 5.73665495e-04 5.67661891e-04\n",
      " 5.60499894e-04 5.50667720e-04 5.47123578e-04 5.40076985e-04\n",
      " 5.35508366e-04 5.32577195e-04 5.31328742e-04 5.24553896e-04\n",
      " 5.20698835e-04 5.14519451e-04 5.07513687e-04 5.04299875e-04\n",
      " 5.01214149e-04 4.96883424e-04 4.90350008e-04 4.83717662e-04\n",
      " 4.81727615e-04 4.71124097e-04 4.66775194e-04 4.63316366e-04\n",
      " 4.61880914e-04 4.58016265e-04 4.55176555e-04 4.53207276e-04\n",
      " 4.51403433e-04 4.44119605e-04 4.40646037e-04 4.36857944e-04\n",
      " 4.32135523e-04 4.27776417e-04 4.24899385e-04 4.20204359e-04\n",
      " 4.17907598e-04 4.15523595e-04 4.08929168e-04 4.05560009e-04\n",
      " 4.02182190e-04 3.98753595e-04 3.96694378e-04 3.93630710e-04\n",
      " 3.92541158e-04 3.89523436e-04 3.85976328e-04 3.82371122e-04\n",
      " 3.80204306e-04 3.73588046e-04 3.69218789e-04 3.67277771e-04\n",
      " 3.64070532e-04 3.59313903e-04 3.58094429e-04 3.55375380e-04\n",
      " 3.52988643e-04 3.48480137e-04 3.44829458e-04 3.42512122e-04\n",
      " 3.39756019e-04 3.39644417e-04 3.37885321e-04 3.34265631e-04\n",
      " 3.31945447e-04 3.26893388e-04 3.24198533e-04 3.22103194e-04\n",
      " 3.19117955e-04 3.15040017e-04 3.13479644e-04 3.13186016e-04\n",
      " 3.08442303e-04 3.05664898e-04 3.03236291e-04 3.03122898e-04\n",
      " 3.00680143e-04 2.98038183e-04 2.93039197e-04 2.91744756e-04\n",
      " 2.89768927e-04 2.87677420e-04 2.86121008e-04 2.84780377e-04\n",
      " 2.82221394e-04 2.80081711e-04 2.79052332e-04 2.76136367e-04\n",
      " 2.73919104e-04 2.70424583e-04 2.68313525e-04 2.67734278e-04\n",
      " 2.65668098e-04 2.64161035e-04 2.61023548e-04 2.58356216e-04\n",
      " 2.56150264e-04 2.55592152e-04 2.51176519e-04 2.49193355e-04\n",
      " 2.46850329e-04 2.44962968e-04 2.43332207e-04 2.41206452e-04\n",
      " 2.38766923e-04 2.37530281e-04 2.35576266e-04 2.33707821e-04\n",
      " 2.32342223e-04 2.31801384e-04 2.28201134e-04 2.26341382e-04\n",
      " 2.25794020e-04 2.24321307e-04 2.23196397e-04 2.21222537e-04\n",
      " 2.19139628e-04 2.17595658e-04 2.16735590e-04 2.15202097e-04\n",
      " 2.13484070e-04 2.12855838e-04 2.10717812e-04 2.09590824e-04\n",
      " 2.08787383e-04 2.06288870e-04 2.05594865e-04 2.03492233e-04\n",
      " 2.02298621e-04 1.99467465e-04 1.98825573e-04 1.97826400e-04\n",
      " 1.97131030e-04 1.96551484e-04 1.95488324e-04 1.94568835e-04\n",
      " 1.92348084e-04 1.90481458e-04 1.89943564e-04 1.88204418e-04\n",
      " 1.87657253e-04 1.86380428e-04 1.83976140e-04 1.83044589e-04\n",
      " 1.80684392e-04 1.79987193e-04 1.79145432e-04 1.78327079e-04\n",
      " 1.77758916e-04 1.76918649e-04 1.74317974e-04 1.73300773e-04\n",
      " 1.72361568e-04 1.70888041e-04 1.69137039e-04 1.68603493e-04\n",
      " 1.67607291e-04 1.66596915e-04 1.64660967e-04 1.64058323e-04\n",
      " 1.63070201e-04 1.62304201e-04 1.61498274e-04 1.60227451e-04\n",
      " 1.59706049e-04 1.58282659e-04 1.56916411e-04 1.56257953e-04\n",
      " 1.55706542e-04 1.54904212e-04 1.54402502e-04 1.52257849e-04\n",
      " 1.51879806e-04 1.50458653e-04 1.50386597e-04 1.49053709e-04\n",
      " 1.47126169e-04 1.45942262e-04 1.45498197e-04 1.44886192e-04\n",
      " 1.43449732e-04 1.42910475e-04 1.42565955e-04 1.41603930e-04\n",
      " 1.40623498e-04 1.40035598e-04 1.38685152e-04 1.38513373e-04\n",
      " 1.36937727e-04 1.36722111e-04 1.35728829e-04 1.34822064e-04\n",
      " 1.33888279e-04 1.32983606e-04 1.32634582e-04 1.31851617e-04\n",
      " 1.31253464e-04 1.31016063e-04 1.29493833e-04 1.29014275e-04\n",
      " 1.28125623e-04 1.27676560e-04 1.26274716e-04 1.25587197e-04\n",
      " 1.24575296e-04 1.24046805e-04 1.23745322e-04 1.23254853e-04\n",
      " 1.22803771e-04 1.21734418e-04 1.20908605e-04 1.20356100e-04\n",
      " 1.19857787e-04 1.19615451e-04 1.18637815e-04 1.17899729e-04\n",
      " 1.17236113e-04 1.16049931e-04 1.15656164e-04 1.14795724e-04\n",
      " 1.13714212e-04 1.13419010e-04 1.12889530e-04 1.12246972e-04\n",
      " 1.11730464e-04 1.11090399e-04 1.10006894e-04 1.09317462e-04\n",
      " 1.09238109e-04 1.08506691e-04 1.07969096e-04 1.07585624e-04\n",
      " 1.07216633e-04 1.06869671e-04 1.05871244e-04 1.05611763e-04\n",
      " 1.04683109e-04 1.03899940e-04 1.03400430e-04 1.02920003e-04\n",
      " 1.02273721e-04 1.01932160e-04 1.00778656e-04 9.99801288e-05\n",
      " 9.99301201e-05 9.90808370e-05 9.87269088e-05 9.77620744e-05\n",
      " 9.74092698e-05 9.67231113e-05 9.63760555e-05 9.57916921e-05\n",
      " 9.54560790e-05 9.45603796e-05 9.38549030e-05 9.32965537e-05\n",
      " 9.26862136e-05 9.25816396e-05 9.21507869e-05 9.20415655e-05\n",
      " 9.10421312e-05 9.01613692e-05 9.00926123e-05 8.95038824e-05\n",
      " 8.92636421e-05 8.83351744e-05 8.79440501e-05 8.75652695e-05\n",
      " 8.75103420e-05 8.71459852e-05 8.62597399e-05 8.55561404e-05\n",
      " 8.52832547e-05 8.44770334e-05 8.42702216e-05 8.40062744e-05\n",
      " 8.35208713e-05 8.27365847e-05 8.20959205e-05 8.16079623e-05\n",
      " 8.13108302e-05 8.11683166e-05 8.03542671e-05 8.01256450e-05\n",
      " 7.93629878e-05 7.91705948e-05 7.80599248e-05 7.79720627e-05\n",
      " 7.67685266e-05 7.65067199e-05 7.62769999e-05 7.61099410e-05\n",
      " 7.55350495e-05 7.52617178e-05 7.49072318e-05 7.38946671e-05\n",
      " 7.35385588e-05 7.33403256e-05 7.29509318e-05 7.22737856e-05\n",
      " 7.19580357e-05 7.16037381e-05 7.11780459e-05 7.07282720e-05\n",
      " 7.02924166e-05 6.97587668e-05 6.97173182e-05 6.94388128e-05\n",
      " 6.93216569e-05 6.86201267e-05 6.84957561e-05 6.78717651e-05\n",
      " 6.71029357e-05 6.65023930e-05 6.62946119e-05 6.57374416e-05\n",
      " 6.54624095e-05 6.52333096e-05 6.45597024e-05 6.43760430e-05\n",
      " 6.40184243e-05 6.32630757e-05 6.29867003e-05 6.27808705e-05\n",
      " 6.26895748e-05 6.24294051e-05 6.21090116e-05 6.13971778e-05\n",
      " 6.04542681e-05 6.02616033e-05 6.00302125e-05 5.97507923e-05\n",
      " 5.94189211e-05 5.89815639e-05 5.87188743e-05 5.86313377e-05\n",
      " 5.79015376e-05 5.76335876e-05 5.74360500e-05 5.64393586e-05\n",
      " 5.63032701e-05 5.60345406e-05 5.55902078e-05 5.49254401e-05\n",
      " 5.46628192e-05 5.43840470e-05 5.42926290e-05 5.40155927e-05\n",
      " 5.37284585e-05 5.32684976e-05 5.28533263e-05 5.24388436e-05\n",
      " 5.23623363e-05 5.18903417e-05 5.16213326e-05 5.08788602e-05\n",
      " 5.07218738e-05 5.02690300e-05 5.00518174e-05 4.96301497e-05\n",
      " 4.91837839e-05 4.90901675e-05 4.86099369e-05 4.82199647e-05\n",
      " 4.78713699e-05 4.76508406e-05 4.72927437e-05 4.70923137e-05\n",
      " 4.65646175e-05 4.63228363e-05 4.60516119e-05 4.54715849e-05\n",
      " 4.52973264e-05 4.48927885e-05 4.48543688e-05 4.41424063e-05\n",
      " 4.38599251e-05 4.37249817e-05 4.34710196e-05 4.29345495e-05\n",
      " 4.28152291e-05 4.23777706e-05 4.18916719e-05 4.16135007e-05\n",
      " 4.13452746e-05 4.11572596e-05 4.09784715e-05 4.04164036e-05\n",
      " 4.00758738e-05 3.96202712e-05 3.92797812e-05 3.90664004e-05\n",
      " 3.89930945e-05 3.88280731e-05 3.86569021e-05 3.80661342e-05\n",
      " 3.74393453e-05 3.73007951e-05 3.70828295e-05 3.66851848e-05\n",
      " 3.65659206e-05 3.57303286e-05 3.56222011e-05 3.52470431e-05\n",
      " 3.49064681e-05 3.42396529e-05 3.41019172e-05 3.35974783e-05\n",
      " 3.30837925e-05 3.29034317e-05 3.25041307e-05 3.20468096e-05\n",
      " 3.19252453e-05 3.17162653e-05 3.12548997e-05 3.02992655e-05\n",
      " 3.02032120e-05 2.94874536e-05 2.88070842e-05 2.81086522e-05\n",
      " 2.76820952e-05 2.72672058e-05 2.65564634e-05 2.41507543e-05\n",
      " 2.37157602e-05 2.26271688e-05 1.63497869e-05 2.42285361e-06\n",
      " 7.99035490e-07 4.57065677e-30 1.98729469e-32 1.80422606e-32\n",
      " 6.22569800e-33 5.87547221e-33 4.74065054e-33 4.14068279e-33\n",
      " 3.88784286e-33 3.67159603e-33 3.56370386e-33 2.93724549e-33\n",
      " 2.36884322e-33 2.06822445e-33 1.96702924e-33 1.76468902e-33\n",
      " 1.56578091e-33 1.47169601e-33 1.45921612e-33 1.24820301e-33\n",
      " 1.13172976e-33 9.09414876e-34 8.84482467e-34 8.79874014e-34\n",
      " 6.99881588e-34 6.88649050e-34 6.81487346e-34 6.71749672e-34\n",
      " 6.62377938e-34 6.32208961e-34 4.79388304e-34 3.66384697e-34\n",
      " 3.47786156e-34 2.78533394e-34 2.62130601e-34 2.23903933e-34\n",
      " 2.06988736e-34 2.06988736e-34 2.06988736e-34 2.06988736e-34\n",
      " 2.06988736e-34 2.06988736e-34 2.06988736e-34 2.06988736e-34\n",
      " 2.06988736e-34 2.06988736e-34 2.06988736e-34 2.06988736e-34\n",
      " 2.06988736e-34 2.06988736e-34 2.06988736e-34 2.06988736e-34\n",
      " 2.06988736e-34 2.06988736e-34 2.06988736e-34 2.06988736e-34\n",
      " 2.06988736e-34 2.06988736e-34 2.06988736e-34 2.06988736e-34\n",
      " 2.06988736e-34 2.06988736e-34 2.06988736e-34 2.06988736e-34\n",
      " 2.06988736e-34 2.06988736e-34 2.06988736e-34 2.06988736e-34\n",
      " 2.06988736e-34 2.06988736e-34 2.06988736e-34 2.06988736e-34\n",
      " 2.06988736e-34 2.06988736e-34 2.06988736e-34 2.06988736e-34\n",
      " 2.06988736e-34 2.06988736e-34 2.06988736e-34 2.06988736e-34\n",
      " 2.06988736e-34 2.06988736e-34 2.06988736e-34 2.06988736e-34\n",
      " 2.06988736e-34 2.06988736e-34 2.06988736e-34 2.06988736e-34\n",
      " 2.06988736e-34 2.06988736e-34 2.06988736e-34 2.06988736e-34\n",
      " 2.06988736e-34 2.06988736e-34 2.06988736e-34 2.06988736e-34\n",
      " 2.06988736e-34 2.06988736e-34 2.06988736e-34 2.06988736e-34\n",
      " 2.06988736e-34 2.06988736e-34 2.06988736e-34 2.06988736e-34\n",
      " 2.06988736e-34 2.06988736e-34 2.06988736e-34 2.06988736e-34\n",
      " 2.06988736e-34 2.06988736e-34 2.06988736e-34 2.06988736e-34\n",
      " 2.06988736e-34 2.06988736e-34 1.64920744e-34 1.56052710e-34\n",
      " 1.14746728e-34 9.39969120e-35 8.23173575e-35 4.67307613e-35\n",
      " 4.19428520e-35 2.40280689e-35 1.86208887e-35 3.60568515e-36]\n"
     ]
    }
   ],
   "source": [
    "print(pca.explained_variance_ratio_)"
   ]
  },
  {
   "cell_type": "code",
   "execution_count": 53,
   "metadata": {},
   "outputs": [],
   "source": [
    "cum_var=np.cumsum(pca.explained_variance_ratio_)"
   ]
  },
  {
   "cell_type": "code",
   "execution_count": 54,
   "metadata": {},
   "outputs": [
    {
     "name": "stdout",
     "output_type": "stream",
     "text": [
      "[0.06196825 0.10440571 0.14485024 0.17715614 0.20470687 0.22879812\n",
      " 0.24925102 0.26808257 0.28479108 0.29996633 0.31468716 0.32779648\n",
      " 0.34034829 0.35228998 0.36373924 0.37468893 0.38500726 0.39494763\n",
      " 0.4044137  0.41352917 0.42242401 0.4310809  0.439552   0.44776835\n",
      " 0.45563324 0.46333726 0.47090331 0.47823448 0.48532264 0.49215733\n",
      " 0.49884345 0.5053854  0.51185667 0.51807696 0.52411842 0.53003733\n",
      " 0.53585823 0.54159029 0.54724663 0.55277341 0.55828517 0.56376579\n",
      " 0.56910488 0.57430115 0.5794262  0.58441841 0.58939824 0.59428976\n",
      " 0.59907746 0.60376681 0.6083714  0.61291288 0.61737137 0.62177213\n",
      " 0.62611217 0.63034858 0.63454437 0.63868709 0.64280317 0.64685943\n",
      " 0.65086596 0.65473127 0.65854374 0.66229743 0.66596192 0.66957285\n",
      " 0.67314234 0.6766452  0.68011477 0.68355655 0.68691319 0.69025179\n",
      " 0.69355391 0.69682147 0.7000608  0.70324833 0.70639452 0.70948764\n",
      " 0.71255969 0.71557651 0.71855513 0.72146596 0.72433806 0.72718373\n",
      " 0.72999686 0.73274882 0.73546921 0.73816025 0.74082745 0.74346128\n",
      " 0.74605074 0.74859585 0.75111878 0.75360223 0.75604612 0.75847629\n",
      " 0.76085841 0.76320888 0.76552579 0.76783567 0.7701208  0.77238706\n",
      " 0.77461841 0.77683495 0.77898869 0.78112609 0.7832479  0.78533479\n",
      " 0.78741445 0.78946035 0.79150342 0.79353235 0.79550421 0.79746504\n",
      " 0.79940851 0.80133532 0.80323321 0.80511444 0.80694059 0.8087304\n",
      " 0.81050979 0.81223692 0.81395307 0.81563823 0.81730897 0.8189667\n",
      " 0.82061414 0.82224291 0.82384699 0.82544459 0.82703022 0.82859307\n",
      " 0.83014774 0.831682   0.83320667 0.8347066  0.83620152 0.83769373\n",
      " 0.83916452 0.84062751 0.84208047 0.84351928 0.84492988 0.84632597\n",
      " 0.84770554 0.84908269 0.85044334 0.85180011 0.85313784 0.85445855\n",
      " 0.85576267 0.85705992 0.85835192 0.85963501 0.86090671 0.86215896\n",
      " 0.86339856 0.86461725 0.86582409 0.8670048  0.86817677 0.86933888\n",
      " 0.87049203 0.87162844 0.87275444 0.87387479 0.87498553 0.87607065\n",
      " 0.87714791 0.87822251 0.87928771 0.88034472 0.88138084 0.88240495\n",
      " 0.88341731 0.88440812 0.88539215 0.88637048 0.8873413  0.88830949\n",
      " 0.88926252 0.89020491 0.8911416  0.89206769 0.8929903  0.89390529\n",
      " 0.89480849 0.89570361 0.89658498 0.89746092 0.89832969 0.89918379\n",
      " 0.90003285 0.90087839 0.90171257 0.90254207 0.90336115 0.90417017\n",
      " 0.9049653  0.9057524  0.90653795 0.90731813 0.90808732 0.90884773\n",
      " 0.9096058  0.91035342 0.91109063 0.91182259 0.91254919 0.91326767\n",
      " 0.91397959 0.91468273 0.91538076 0.91606551 0.91674609 0.91742373\n",
      " 0.9180936  0.9187596  0.91941808 0.92006558 0.92070648 0.92134654\n",
      " 0.92198061 0.92260986 0.92323343 0.92385504 0.92446382 0.92506925\n",
      " 0.92566783 0.92626531 0.92685669 0.92744351 0.92802316 0.9285992\n",
      " 0.92917286 0.92974052 0.93030102 0.93085169 0.93139881 0.93193889\n",
      " 0.9324744  0.93300698 0.93353831 0.93406286 0.93458356 0.93509808\n",
      " 0.93560559 0.93610989 0.93661111 0.93710799 0.93759834 0.93808206\n",
      " 0.93856378 0.93903491 0.93950168 0.939965   0.94042688 0.9408849\n",
      " 0.94134007 0.94179328 0.94224468 0.9426888  0.94312945 0.94356631\n",
      " 0.94399844 0.94442622 0.94485112 0.94527132 0.94568923 0.94610475\n",
      " 0.94651368 0.94691924 0.94732143 0.94772018 0.94811687 0.9485105\n",
      " 0.94890305 0.94929257 0.94967855 0.95006092 0.95044112 0.95081471\n",
      " 0.95118393 0.95155121 0.95191528 0.95227459 0.95263268 0.95298806\n",
      " 0.95334105 0.95368953 0.95403436 0.95437687 0.95471663 0.95505627\n",
      " 0.95539416 0.95572842 0.95606037 0.95638726 0.95671146 0.95703356\n",
      " 0.95735268 0.95766772 0.9579812  0.95829439 0.95860283 0.95890849\n",
      " 0.95921173 0.95951485 0.95981553 0.96011357 0.96040661 0.96069835\n",
      " 0.96098812 0.9612758  0.96156192 0.9618467  0.96212892 0.96240901\n",
      " 0.96268806 0.96296419 0.96323811 0.96350854 0.96377685 0.96404459\n",
      " 0.96431025 0.96457441 0.96483544 0.96509379 0.96534994 0.96560554\n",
      " 0.96585671 0.96610591 0.96635276 0.96659772 0.96684105 0.96708226\n",
      " 0.96732103 0.96755856 0.96779413 0.96802784 0.96826018 0.96849198\n",
      " 0.96872018 0.96894653 0.96917232 0.96939664 0.96961984 0.96984106\n",
      " 0.9700602  0.9702778  0.97049453 0.97070973 0.97092322 0.97113607\n",
      " 0.97134679 0.97155638 0.97176517 0.97197146 0.97217705 0.97238055\n",
      " 0.97258284 0.97278231 0.97298114 0.97317896 0.97337609 0.97357265\n",
      " 0.97376813 0.9739627  0.97415505 0.97434553 0.97453548 0.97472368\n",
      " 0.97491134 0.97509772 0.97528169 0.97546474 0.97564542 0.97582541\n",
      " 0.97600456 0.97618288 0.97636064 0.97653756 0.97671188 0.97688518\n",
      " 0.97705754 0.97722843 0.97739757 0.97756617 0.97773378 0.97790037\n",
      " 0.97806503 0.97822909 0.97839216 0.97855447 0.97871597 0.97887619\n",
      " 0.9790359  0.97919418 0.9793511  0.97950736 0.97966306 0.97981797\n",
      " 0.97997237 0.98012463 0.98027651 0.98042697 0.98057735 0.98072641\n",
      " 0.98087353 0.98101947 0.98116497 0.98130986 0.98145331 0.98159622\n",
      " 0.98173879 0.98188039 0.98202101 0.98216105 0.98229973 0.98243825\n",
      " 0.98257518 0.98271191 0.98284764 0.98298246 0.98311635 0.98324933\n",
      " 0.98338196 0.98351382 0.98364507 0.98377609 0.98390558 0.98403459\n",
      " 0.98416272 0.9842904  0.98441667 0.98454226 0.98466683 0.98479088\n",
      " 0.98491462 0.98503788 0.98516068 0.98528242 0.98540333 0.98552368\n",
      " 0.98564354 0.98576316 0.98588179 0.98599969 0.98611693 0.98623298\n",
      " 0.98634864 0.98646343 0.98657715 0.98669056 0.98680345 0.9869157\n",
      " 0.98702743 0.98713852 0.98724853 0.98735785 0.98746708 0.98757559\n",
      " 0.98768356 0.98779115 0.98789836 0.98800523 0.9881111  0.98821672\n",
      " 0.9883214  0.9884253  0.9885287  0.98863162 0.98873389 0.98883582\n",
      " 0.9889366  0.98903658 0.98913651 0.98923559 0.98933432 0.98943208\n",
      " 0.98952949 0.98962622 0.98972259 0.98981838 0.98991384 0.9900084\n",
      " 0.99010225 0.99019555 0.99028824 0.99038082 0.99047297 0.99056501\n",
      " 0.99065605 0.99074621 0.99083631 0.99092581 0.99101507 0.99110341\n",
      " 0.99119135 0.99127892 0.99136643 0.99145358 0.99153984 0.99162539\n",
      " 0.99171067 0.99179515 0.99187942 0.99196343 0.99204695 0.99212969\n",
      " 0.99221178 0.99229339 0.9923747  0.99245587 0.99253622 0.99261635\n",
      " 0.99269571 0.99277488 0.99285294 0.99293091 0.99300768 0.99308419\n",
      " 0.99316047 0.99323658 0.99331211 0.99338737 0.99346228 0.99353618\n",
      " 0.99360971 0.99368305 0.99375601 0.99382828 0.99390024 0.99397184\n",
      " 0.99404302 0.99411375 0.99418404 0.9942538  0.99432352 0.99439295\n",
      " 0.99446228 0.9945309  0.99459939 0.99466726 0.99473437 0.99480087\n",
      " 0.99486716 0.9949329  0.99499836 0.9950636  0.99512816 0.99519253\n",
      " 0.99525655 0.99531981 0.9953828  0.99544558 0.99550827 0.9955707\n",
      " 0.99563281 0.99569421 0.99575466 0.99581492 0.99587495 0.9959347\n",
      " 0.99599412 0.9960531  0.99611182 0.99617045 0.99622836 0.99628599\n",
      " 0.99634343 0.99639986 0.99645617 0.9965122  0.99656779 0.99662272\n",
      " 0.99667738 0.99673177 0.99678606 0.99684007 0.9968938  0.99694707\n",
      " 0.99699992 0.99705236 0.99710472 0.99715662 0.99720824 0.99725912\n",
      " 0.99730984 0.99736011 0.99741016 0.99745979 0.99750897 0.99755806\n",
      " 0.99760667 0.99765489 0.99770276 0.99775041 0.99779771 0.9978448\n",
      " 0.99789136 0.99793769 0.99798374 0.99802921 0.99807451 0.9981194\n",
      " 0.99816425 0.9982084  0.99825226 0.99829598 0.99833945 0.99838239\n",
      " 0.9984252  0.99846758 0.99850947 0.99855109 0.99859243 0.99863359\n",
      " 0.99867457 0.99871498 0.99875506 0.99879468 0.99883396 0.99887303\n",
      " 0.99891202 0.99895085 0.9989895  0.99902757 0.99906501 0.99910231\n",
      " 0.99913939 0.99917608 0.99921264 0.99924837 0.999284   0.99931924\n",
      " 0.99935415 0.99938839 0.99942249 0.99945609 0.99948917 0.99952208\n",
      " 0.99955458 0.99958663 0.99961855 0.99965027 0.99968152 0.99971182\n",
      " 0.99974203 0.99977151 0.99980032 0.99982843 0.99985611 0.99988338\n",
      " 0.99990993 0.99993409 0.9999578  0.99998043 0.99999678 0.9999992\n",
      " 1.         1.         1.         1.         1.         1.\n",
      " 1.         1.         1.         1.         1.         1.\n",
      " 1.         1.         1.         1.         1.         1.\n",
      " 1.         1.         1.         1.         1.         1.\n",
      " 1.         1.         1.         1.         1.         1.\n",
      " 1.         1.         1.         1.         1.         1.\n",
      " 1.         1.         1.         1.         1.         1.\n",
      " 1.         1.         1.         1.         1.         1.\n",
      " 1.         1.         1.         1.         1.         1.\n",
      " 1.         1.         1.         1.         1.         1.\n",
      " 1.         1.         1.         1.         1.         1.\n",
      " 1.         1.         1.         1.         1.         1.\n",
      " 1.         1.         1.         1.         1.         1.\n",
      " 1.         1.         1.         1.         1.         1.\n",
      " 1.         1.         1.         1.         1.         1.\n",
      " 1.         1.         1.         1.         1.         1.\n",
      " 1.         1.         1.         1.         1.         1.\n",
      " 1.         1.         1.         1.         1.         1.\n",
      " 1.         1.         1.         1.         1.         1.\n",
      " 1.         1.         1.         1.         1.         1.\n",
      " 1.         1.         1.         1.        ]\n"
     ]
    }
   ],
   "source": [
    "print(cum_var)"
   ]
  },
  {
   "cell_type": "code",
   "execution_count": null,
   "metadata": {},
   "outputs": [],
   "source": []
  }
 ],
 "metadata": {
  "kernelspec": {
   "display_name": "Python 3",
   "language": "python",
   "name": "python3"
  },
  "language_info": {
   "codemirror_mode": {
    "name": "ipython",
    "version": 3
   },
   "file_extension": ".py",
   "mimetype": "text/x-python",
   "name": "python",
   "nbconvert_exporter": "python",
   "pygments_lexer": "ipython3",
   "version": "3.7.3"
  }
 },
 "nbformat": 4,
 "nbformat_minor": 2
}
